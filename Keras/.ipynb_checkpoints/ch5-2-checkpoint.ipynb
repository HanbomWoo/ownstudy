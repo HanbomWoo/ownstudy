{
 "cells": [
  {
   "cell_type": "markdown",
   "metadata": {},
   "source": [
    "# CH5.2 소규모 데이터셋에서 밑바닥부터 convnet 훈련하기"
   ]
  },
  {
   "cell_type": "markdown",
   "metadata": {},
   "source": [
    "소규모 data를 사용해 img classification model을 만드는 일은 흔한 경우다"
   ]
  },
  {
   "cell_type": "markdown",
   "metadata": {},
   "source": [
    "2000개의 train sample에서 ConvNet에 어떤 규제 방법도 사용하지 않고 train 할 경우 : **과대적합**으로 다소 낮은 71%의 acc를 달성\n",
    "\n",
    "**overfitting**을 줄이기 위한 방법\n",
    "1. data augmentation (이번 ch에서 다룸)\n",
    "2. pretrained network 사용해 feature 추출\n",
    "3. pretrained model tunning\n"
   ]
  },
  {
   "cell_type": "markdown",
   "metadata": {},
   "source": [
    "## 1) 작은 dataset 문제에서 딥러니의 타당성\n",
    "\n",
    "**deep learning의 근본적인 특징:**\n",
    "1. **feature 공학의 수작업 없이 feature을 추출할 수 있다는 점** -> train sample이 많아야 함\n",
    "    - sample의 수의 의미는 훈련하려는 network의 크기와 깊이에 상대적이다\n",
    "    - model이 작고 규제가 잘 돼있으며 간단한 작업이라면, 수백개의 sample만으로도 풍분하다\n",
    "    - **convnet은 지역적이고 평행이동으로 변하지 않는 feature을 학습하기 때문에 인식에 관한 문제에서 매우 효율적으로 data 사용**\n",
    "        * 매우 작은 img dataset에서 어떤 종류의 feature 공학을 사용하지 않고도 convnet을 활용해 좋은 결과를 얻을 수 있다\n",
    "        \n",
    "        \n",
    "2. **deep learning model은 매우 다목적이다**\n",
    "    - 대규모 dataset에서 훈련시킨 img classification model을 조금만 변경시키면 완전히 다른 문제에도 사용 가능\n",
    "    - 특히 computer vision에서는 ImageNet의 대규모 dataset에서 사전 훈련된 model을 공유하므로 매우 data가 적어도 강력한 vision model을 만들어낼 수 있다 "
   ]
  },
  {
   "cell_type": "code",
   "execution_count": null,
   "metadata": {},
   "outputs": [],
   "source": []
  },
  {
   "cell_type": "markdown",
   "metadata": {},
   "source": [
    "## 2) data 내려받기"
   ]
  },
  {
   "cell_type": "markdown",
   "metadata": {},
   "source": [
    "data 구성 : 2000개의 img(1000개의 고양이, 1000개의 강아지)\n",
    "- train data : 1000개( 500개 고양이, 500개 강아지)\n",
    "- validation data : 500개(250개 고양이, 250개 강아지)\n",
    "- test data : 500개(250개 고양이, 250개 강아지)    "
   ]
  },
  {
   "cell_type": "code",
   "execution_count": 1,
   "metadata": {},
   "outputs": [],
   "source": [
    "import os, shutil"
   ]
  },
  {
   "cell_type": "code",
   "execution_count": 3,
   "metadata": {},
   "outputs": [],
   "source": [
    "\n",
    "# 원본 데이터셋을 압축 해제한 디렉터리 경로\n",
    "original_dataset_dir = './006975/datasets/cats_and_dogs/train'\n",
    "\n",
    "# 소규모 데이터셋을 저장할 디렉터리\n",
    "base_dir = './006975/datasets/cats_and_dogs_small'\n",
    "if os.path.exists(base_dir):  # 반복적인 실행을 위해 디렉토리를 삭제합니다.\n",
    "    shutil.rmtree(base_dir)   # 이 코드는 책에 포함되어 있지 않습니다.\n",
    "os.mkdir(base_dir)\n",
    "\n",
    "# 훈련, 검증, 테스트 분할을 위한 디렉터리\n",
    "train_dir = os.path.join(base_dir, 'train')\n",
    "os.mkdir(train_dir)\n",
    "validation_dir = os.path.join(base_dir, 'validation')\n",
    "os.mkdir(validation_dir)\n",
    "test_dir = os.path.join(base_dir, 'test')\n",
    "os.mkdir(test_dir)\n",
    "\n",
    "# 훈련용 고양이 사진 디렉터리\n",
    "train_cats_dir = os.path.join(train_dir, 'cats')\n",
    "os.mkdir(train_cats_dir)\n",
    "\n",
    "# 훈련용 강아지 사진 디렉터리\n",
    "train_dogs_dir = os.path.join(train_dir, 'dogs')\n",
    "os.mkdir(train_dogs_dir)\n",
    "\n",
    "# 검증용 고양이 사진 디렉터리\n",
    "validation_cats_dir = os.path.join(validation_dir, 'cats')\n",
    "os.mkdir(validation_cats_dir)\n",
    "\n",
    "# 검증용 강아지 사진 디렉터리\n",
    "validation_dogs_dir = os.path.join(validation_dir, 'dogs')\n",
    "os.mkdir(validation_dogs_dir)\n",
    "\n",
    "# 테스트용 고양이 사진 디렉터리\n",
    "test_cats_dir = os.path.join(test_dir, 'cats')\n",
    "os.mkdir(test_cats_dir)\n",
    "\n",
    "# 테스트용 강아지 사진 디렉터리\n",
    "test_dogs_dir = os.path.join(test_dir, 'dogs')\n",
    "os.mkdir(test_dogs_dir)\n",
    "\n",
    "# 처음 1,000개의 고양이 이미지를 train_cats_dir에 복사합니다\n",
    "fnames = ['cat.{}.jpg'.format(i) for i in range(1000)]\n",
    "for fname in fnames:\n",
    "    src = os.path.join(original_dataset_dir, fname)\n",
    "    dst = os.path.join(train_cats_dir, fname)\n",
    "    shutil.copyfile(src, dst)\n",
    "\n",
    "# 다음 500개 고양이 이미지를 validation_cats_dir에 복사합니다\n",
    "fnames = ['cat.{}.jpg'.format(i) for i in range(1000, 1500)]\n",
    "for fname in fnames:\n",
    "    src = os.path.join(original_dataset_dir, fname)\n",
    "    dst = os.path.join(validation_cats_dir, fname)\n",
    "    shutil.copyfile(src, dst)\n",
    "    \n",
    "# 다음 500개 고양이 이미지를 test_cats_dir에 복사합니다\n",
    "fnames = ['cat.{}.jpg'.format(i) for i in range(1500, 2000)]\n",
    "for fname in fnames:\n",
    "    src = os.path.join(original_dataset_dir, fname)\n",
    "    dst = os.path.join(test_cats_dir, fname)\n",
    "    shutil.copyfile(src, dst)\n",
    "    \n",
    "# 처음 1,000개의 강아지 이미지를 train_dogs_dir에 복사합니다\n",
    "fnames = ['dog.{}.jpg'.format(i) for i in range(1000)]\n",
    "for fname in fnames:\n",
    "    src = os.path.join(original_dataset_dir, fname)\n",
    "    dst = os.path.join(train_dogs_dir, fname)\n",
    "    shutil.copyfile(src, dst)\n",
    "    \n",
    "# 다음 500개 강아지 이미지를 validation_dogs_dir에 복사합니다\n",
    "fnames = ['dog.{}.jpg'.format(i) for i in range(1000, 1500)]\n",
    "for fname in fnames:\n",
    "    src = os.path.join(original_dataset_dir, fname)\n",
    "    dst = os.path.join(validation_dogs_dir, fname)\n",
    "    shutil.copyfile(src, dst)\n",
    "    \n",
    "# 다음 500개 강아지 이미지를 test_dogs_dir에 복사합니다\n",
    "fnames = ['dog.{}.jpg'.format(i) for i in range(1500, 2000)]\n",
    "for fname in fnames:\n",
    "    src = os.path.join(original_dataset_dir, fname)\n",
    "    dst = os.path.join(test_dogs_dir, fname)\n",
    "    shutil.copyfile(src, dst)"
   ]
  },
  {
   "cell_type": "code",
   "execution_count": 4,
   "metadata": {},
   "outputs": [
    {
     "name": "stdout",
     "output_type": "stream",
     "text": [
      "훈련용 고양이 이미지 전체 개수: 1000\n"
     ]
    }
   ],
   "source": [
    "print('훈련용 고양이 이미지 전체 개수:', len(os.listdir(train_cats_dir)))"
   ]
  },
  {
   "cell_type": "code",
   "execution_count": 5,
   "metadata": {},
   "outputs": [
    {
     "name": "stdout",
     "output_type": "stream",
     "text": [
      "훈련용 강아지 이미지 전체 개수: 1000\n"
     ]
    }
   ],
   "source": [
    "print('훈련용 강아지 이미지 전체 개수:', len(os.listdir(train_dogs_dir)))"
   ]
  },
  {
   "cell_type": "code",
   "execution_count": 6,
   "metadata": {},
   "outputs": [
    {
     "name": "stdout",
     "output_type": "stream",
     "text": [
      "검증용 고양이 이미지 전체 개수: 500\n"
     ]
    }
   ],
   "source": [
    "print('검증용 고양이 이미지 전체 개수:', len(os.listdir(validation_cats_dir)))"
   ]
  },
  {
   "cell_type": "code",
   "execution_count": 7,
   "metadata": {},
   "outputs": [
    {
     "name": "stdout",
     "output_type": "stream",
     "text": [
      "검증용 강아지 이미지 전체 개수: 500\n"
     ]
    }
   ],
   "source": [
    "print('검증용 강아지 이미지 전체 개수:', len(os.listdir(validation_dogs_dir)))"
   ]
  },
  {
   "cell_type": "code",
   "execution_count": 8,
   "metadata": {},
   "outputs": [
    {
     "name": "stdout",
     "output_type": "stream",
     "text": [
      "테스트용 고양이 이미지 전체 개수: 500\n"
     ]
    }
   ],
   "source": [
    "print('테스트용 고양이 이미지 전체 개수:', len(os.listdir(test_cats_dir)))"
   ]
  },
  {
   "cell_type": "code",
   "execution_count": 9,
   "metadata": {},
   "outputs": [
    {
     "name": "stdout",
     "output_type": "stream",
     "text": [
      "테스트용 강아지 이미지 전체 개수: 500\n"
     ]
    }
   ],
   "source": [
    "print('테스트용 강아지 이미지 전체 개수:', len(os.listdir(test_dogs_dir)))"
   ]
  },
  {
   "cell_type": "markdown",
   "metadata": {},
   "source": [
    "## 3) network 구성하기"
   ]
  },
  {
   "cell_type": "markdown",
   "metadata": {},
   "source": [
    "Conv2D(relu activation)+ MaxPooling2D layer을 번갈아 쌓음\n",
    "* 복잡한 문제이기 때문에 network를 좀더 크게 만들 것임\n",
    "* flatten layer의 크기가 너무 커지지 않도록 feature map의 크기를 줄일 수 있음\n",
    "* binary classification 문제이므로 network는 하나의 unit(크기가 1인 dense 층)과 sigmoid activation으로 마무리\n",
    "    - sigmoid unit은 한 class에 대한 확률을 encoding한다\n",
    "\n",
    "> **NOTE**    \n",
    "> feature map의 깊이는 network에서 점진적으로 증가하지만, feature map의 크기는 감소한다\n",
    ">* 깊이: 32에서 128까지\n",
    ">* 크기: 150x150에서 7x7까지"
   ]
  },
  {
   "cell_type": "code",
   "execution_count": 10,
   "metadata": {},
   "outputs": [],
   "source": [
    "from keras import layers\n",
    "from keras import models\n",
    "\n",
    "model = models.Sequential()\n",
    "model.add(layers.Conv2D(32, (3, 3), activation='relu',\n",
    "                        input_shape=(150, 150, 3)))\n",
    "model.add(layers.MaxPooling2D((2, 2)))\n",
    "model.add(layers.Conv2D(64, (3, 3), activation='relu'))\n",
    "model.add(layers.MaxPooling2D((2, 2)))\n",
    "model.add(layers.Conv2D(128, (3, 3), activation='relu'))\n",
    "model.add(layers.MaxPooling2D((2, 2)))\n",
    "model.add(layers.Conv2D(128, (3, 3), activation='relu'))\n",
    "model.add(layers.MaxPooling2D((2, 2)))\n",
    "model.add(layers.Flatten())\n",
    "model.add(layers.Dense(512, activation='relu'))\n",
    "model.add(layers.Dense(1, activation='sigmoid'))"
   ]
  },
  {
   "cell_type": "code",
   "execution_count": 11,
   "metadata": {},
   "outputs": [
    {
     "name": "stdout",
     "output_type": "stream",
     "text": [
      "Model: \"sequential\"\n",
      "_________________________________________________________________\n",
      "Layer (type)                 Output Shape              Param #   \n",
      "=================================================================\n",
      "conv2d (Conv2D)              (None, 148, 148, 32)      896       \n",
      "_________________________________________________________________\n",
      "max_pooling2d (MaxPooling2D) (None, 74, 74, 32)        0         \n",
      "_________________________________________________________________\n",
      "conv2d_1 (Conv2D)            (None, 72, 72, 64)        18496     \n",
      "_________________________________________________________________\n",
      "max_pooling2d_1 (MaxPooling2 (None, 36, 36, 64)        0         \n",
      "_________________________________________________________________\n",
      "conv2d_2 (Conv2D)            (None, 34, 34, 128)       73856     \n",
      "_________________________________________________________________\n",
      "max_pooling2d_2 (MaxPooling2 (None, 17, 17, 128)       0         \n",
      "_________________________________________________________________\n",
      "conv2d_3 (Conv2D)            (None, 15, 15, 128)       147584    \n",
      "_________________________________________________________________\n",
      "max_pooling2d_3 (MaxPooling2 (None, 7, 7, 128)         0         \n",
      "_________________________________________________________________\n",
      "flatten (Flatten)            (None, 6272)              0         \n",
      "_________________________________________________________________\n",
      "dense (Dense)                (None, 512)               3211776   \n",
      "_________________________________________________________________\n",
      "dense_1 (Dense)              (None, 1)                 513       \n",
      "=================================================================\n",
      "Total params: 3,453,121\n",
      "Trainable params: 3,453,121\n",
      "Non-trainable params: 0\n",
      "_________________________________________________________________\n"
     ]
    }
   ],
   "source": [
    "model.summary()"
   ]
  },
  {
   "cell_type": "markdown",
   "metadata": {},
   "source": [
    "* 하나의 sigmoide unit으로 확률이 출력되므로 loss를 binary_crossentropy 사용"
   ]
  },
  {
   "cell_type": "code",
   "execution_count": 12,
   "metadata": {},
   "outputs": [],
   "source": [
    "from keras import optimizers\n",
    "\n",
    "model.compile(loss='binary_crossentropy',\n",
    "              optimizer=optimizers.RMSprop(lr=1e-4),\n",
    "              metrics=['acc'])"
   ]
  },
  {
   "cell_type": "markdown",
   "metadata": {},
   "source": [
    "## 4) data 전처리"
   ]
  },
  {
   "cell_type": "markdown",
   "metadata": {},
   "source": [
    "**data는 network에 주입되기 전에 부동소수 타입의 tensor로 전처리되어야 함**   \n",
    "차례:\n",
    "1. JPEG 사진 파일을 읽는다\n",
    "2. JPEG를 RGB pixel 값으로 decoding한다\n",
    "3. 그 다음 부동소수 타입(float)의 tensor로 변환\n",
    "4. pixel 값의 scale을 (0, 255) 사이에서 [0,1] 사이로 조정 : normaliztion\n",
    "    - 신경망은 작은 input값을 선호"
   ]
  },
  {
   "cell_type": "markdown",
   "metadata": {},
   "source": [
    ">`keras.preprocessing.image`   \n",
    "> 위 라이브러리에 img 처리를 위한 helper 도구들이 있다\n",
    "> * 특히 `ImageDataGenerator` class는 img 파일을 전처리 배치 tensor로 자동으로 바꿔주는 **generator**를 만들어줌"
   ]
  },
  {
   "cell_type": "code",
   "execution_count": 13,
   "metadata": {},
   "outputs": [
    {
     "name": "stdout",
     "output_type": "stream",
     "text": [
      "Found 2000 images belonging to 2 classes.\n",
      "Found 1000 images belonging to 2 classes.\n"
     ]
    }
   ],
   "source": [
    "from keras.preprocessing.image import ImageDataGenerator\n",
    "\n",
    "# 모든 이미지를 1/255로 스케일을 조정합니다\n",
    "train_datagen = ImageDataGenerator(rescale=1./255)\n",
    "test_datagen = ImageDataGenerator(rescale=1./255)\n",
    "\n",
    "train_generator = train_datagen.flow_from_directory(\n",
    "        # 타깃 디렉터리\n",
    "        train_dir,\n",
    "        # 모든 이미지를 150 × 150 크기로 바꿉니다\n",
    "        target_size=(150, 150),\n",
    "        batch_size=20,\n",
    "        # binary_crossentropy 손실을 사용하기 때문에 이진 레이블이 필요합니다\n",
    "        class_mode='binary')\n",
    "\n",
    "validation_generator = test_datagen.flow_from_directory(\n",
    "        validation_dir,\n",
    "        target_size=(150, 150),\n",
    "        batch_size=20,\n",
    "        class_mode='binary')"
   ]
  },
  {
   "cell_type": "code",
   "execution_count": 14,
   "metadata": {},
   "outputs": [
    {
     "name": "stdout",
     "output_type": "stream",
     "text": [
      "배치 데이터 크기: (20, 150, 150, 3)\n",
      "배치 레이블 크기: (20,)\n"
     ]
    }
   ],
   "source": [
    "for data_batch, labels_batch in train_generator:\n",
    "    print('배치 데이터 크기:', data_batch.shape)\n",
    "    print('배치 레이블 크기:', labels_batch.shape)\n",
    "    break"
   ]
  },
  {
   "cell_type": "code",
   "execution_count": 15,
   "metadata": {},
   "outputs": [
    {
     "name": "stderr",
     "output_type": "stream",
     "text": [
      "C:\\Users\\bomsi\\Anaconda3\\lib\\site-packages\\tensorflow\\python\\keras\\engine\\training.py:1844: UserWarning: `Model.fit_generator` is deprecated and will be removed in a future version. Please use `Model.fit`, which supports generators.\n",
      "  warnings.warn('`Model.fit_generator` is deprecated and '\n"
     ]
    },
    {
     "name": "stdout",
     "output_type": "stream",
     "text": [
      "Epoch 1/30\n",
      "100/100 [==============================] - 28s 274ms/step - loss: 0.6974 - acc: 0.5057 - val_loss: 0.6766 - val_acc: 0.5750\n",
      "Epoch 2/30\n",
      "100/100 [==============================] - 26s 261ms/step - loss: 0.6698 - acc: 0.5820 - val_loss: 0.7153 - val_acc: 0.5020\n",
      "Epoch 3/30\n",
      "100/100 [==============================] - 27s 265ms/step - loss: 0.6371 - acc: 0.6327 - val_loss: 0.6352 - val_acc: 0.6300\n",
      "Epoch 4/30\n",
      "100/100 [==============================] - 27s 265ms/step - loss: 0.5831 - acc: 0.7105 - val_loss: 0.5952 - val_acc: 0.6890\n",
      "Epoch 5/30\n",
      "100/100 [==============================] - 27s 266ms/step - loss: 0.5473 - acc: 0.7395 - val_loss: 0.6818 - val_acc: 0.5980\n",
      "Epoch 6/30\n",
      "100/100 [==============================] - 28s 275ms/step - loss: 0.5386 - acc: 0.7223 - val_loss: 0.6868 - val_acc: 0.6400\n",
      "Epoch 7/30\n",
      "100/100 [==============================] - 33s 329ms/step - loss: 0.4881 - acc: 0.7628 - val_loss: 0.5645 - val_acc: 0.7060\n",
      "Epoch 8/30\n",
      "100/100 [==============================] - 27s 270ms/step - loss: 0.4511 - acc: 0.7876 - val_loss: 0.5702 - val_acc: 0.7240\n",
      "Epoch 9/30\n",
      "100/100 [==============================] - 27s 273ms/step - loss: 0.4392 - acc: 0.7882 - val_loss: 0.5680 - val_acc: 0.7100\n",
      "Epoch 10/30\n",
      "100/100 [==============================] - 27s 270ms/step - loss: 0.4125 - acc: 0.8176 - val_loss: 0.5677 - val_acc: 0.7160\n",
      "Epoch 11/30\n",
      "100/100 [==============================] - 27s 269ms/step - loss: 0.3864 - acc: 0.8302 - val_loss: 0.5462 - val_acc: 0.7290\n",
      "Epoch 12/30\n",
      "100/100 [==============================] - 27s 270ms/step - loss: 0.3520 - acc: 0.8365 - val_loss: 0.5555 - val_acc: 0.7280\n",
      "Epoch 13/30\n",
      "100/100 [==============================] - 28s 275ms/step - loss: 0.3400 - acc: 0.8571 - val_loss: 0.6094 - val_acc: 0.7110\n",
      "Epoch 14/30\n",
      "100/100 [==============================] - 27s 273ms/step - loss: 0.3055 - acc: 0.8706 - val_loss: 0.5553 - val_acc: 0.7360\n",
      "Epoch 15/30\n",
      "100/100 [==============================] - 27s 271ms/step - loss: 0.2901 - acc: 0.8744 - val_loss: 0.6204 - val_acc: 0.7180\n",
      "Epoch 16/30\n",
      "100/100 [==============================] - 27s 270ms/step - loss: 0.2717 - acc: 0.8933 - val_loss: 0.5851 - val_acc: 0.7400\n",
      "Epoch 17/30\n",
      "100/100 [==============================] - 27s 270ms/step - loss: 0.2444 - acc: 0.9011 - val_loss: 0.5961 - val_acc: 0.7390\n",
      "Epoch 18/30\n",
      "100/100 [==============================] - 27s 271ms/step - loss: 0.2187 - acc: 0.9181 - val_loss: 0.5915 - val_acc: 0.7470\n",
      "Epoch 19/30\n",
      "100/100 [==============================] - 27s 271ms/step - loss: 0.1979 - acc: 0.9277 - val_loss: 0.6235 - val_acc: 0.7480\n",
      "Epoch 20/30\n",
      "100/100 [==============================] - 27s 272ms/step - loss: 0.1895 - acc: 0.9349 - val_loss: 0.6662 - val_acc: 0.7400\n",
      "Epoch 21/30\n",
      "100/100 [==============================] - 28s 280ms/step - loss: 0.1746 - acc: 0.9442 - val_loss: 0.6577 - val_acc: 0.7390\n",
      "Epoch 22/30\n",
      "100/100 [==============================] - 27s 271ms/step - loss: 0.1445 - acc: 0.9513 - val_loss: 0.6666 - val_acc: 0.7450\n",
      "Epoch 23/30\n",
      "100/100 [==============================] - 27s 272ms/step - loss: 0.1256 - acc: 0.9619 - val_loss: 0.7440 - val_acc: 0.7420\n",
      "Epoch 24/30\n",
      "100/100 [==============================] - 27s 270ms/step - loss: 0.1087 - acc: 0.9684 - val_loss: 0.7297 - val_acc: 0.7470\n",
      "Epoch 25/30\n",
      "100/100 [==============================] - 27s 273ms/step - loss: 0.1065 - acc: 0.9637 - val_loss: 0.8230 - val_acc: 0.7320\n",
      "Epoch 26/30\n",
      "100/100 [==============================] - 28s 277ms/step - loss: 0.0966 - acc: 0.9697 - val_loss: 0.9422 - val_acc: 0.7160\n",
      "Epoch 27/30\n",
      "100/100 [==============================] - 28s 275ms/step - loss: 0.0735 - acc: 0.9800 - val_loss: 0.8373 - val_acc: 0.7320\n",
      "Epoch 28/30\n",
      "100/100 [==============================] - 28s 276ms/step - loss: 0.0633 - acc: 0.9810 - val_loss: 0.9123 - val_acc: 0.7340\n",
      "Epoch 29/30\n",
      "100/100 [==============================] - 28s 277ms/step - loss: 0.0547 - acc: 0.9829 - val_loss: 0.9212 - val_acc: 0.7360\n",
      "Epoch 30/30\n",
      "100/100 [==============================] - 27s 272ms/step - loss: 0.0452 - acc: 0.9887 - val_loss: 1.0705 - val_acc: 0.7230\n"
     ]
    }
   ],
   "source": [
    "history = model.fit_generator(\n",
    "      train_generator,\n",
    "      steps_per_epoch=100,\n",
    "      epochs=30,\n",
    "      validation_data=validation_generator,\n",
    "      validation_steps=50)"
   ]
  },
  {
   "cell_type": "markdown",
   "metadata": {},
   "source": [
    "## 5) data 증식 사용하기"
   ]
  },
  {
   "cell_type": "code",
   "execution_count": null,
   "metadata": {},
   "outputs": [],
   "source": []
  }
 ],
 "metadata": {
  "kernelspec": {
   "display_name": "Python 3",
   "language": "python",
   "name": "python3"
  },
  "language_info": {
   "codemirror_mode": {
    "name": "ipython",
    "version": 3
   },
   "file_extension": ".py",
   "mimetype": "text/x-python",
   "name": "python",
   "nbconvert_exporter": "python",
   "pygments_lexer": "ipython3",
   "version": "3.8.5"
  }
 },
 "nbformat": 4,
 "nbformat_minor": 4
}
