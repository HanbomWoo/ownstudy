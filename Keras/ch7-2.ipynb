{
 "cells": [
  {
   "cell_type": "markdown",
   "metadata": {},
   "source": [
    "# Chapter 7.2 Keras callback과 텐서보드를 사용한 딥러닝 모델 검사와 모니터링\n",
    "\n",
    "`model.fit()`이나 `model.fit_generator()`로 수십번의 epoch를 실행해왔다 -> 종이비행기를 날리는 것으로 비유: 손을 떠나면 경로와 착륙지점을 제어할 수 없다\n",
    "\n",
    "\n",
    "-> `model.fit()` 호출 이후 드론처럼 스스로 판단하고 동적으로 결정하는 똑똑한 방식을 알아보려 한다"
   ]
  },
  {
   "cell_type": "markdown",
   "metadata": {},
   "source": [
    "## 1)callback을 사용하여 model의 훈련 과정 제어하기\n",
    "\n",
    "model을 train할 때 미리 예상할 수 없는 것들이 많다   \n",
    "- 특히 최적의 val_loss를 얻기 위해 얼마나 많은 epoch가 필요한지 알지 못한다\n",
    "    + 이전까지는 적절한 train epoch을 알기 위해 첫번째 실행에서는 과대적합이 일어날정도로 충분한 epoch에서 train한 이후, 최적의 epoch횟수로 처음부터 새로운 train을 시작 ==낭비!\n",
    "- 더 좋은 처리 방식은 val_loss가 더 이상 향상되지 않을 때 train을 멈추는 것이다\n",
    "\n",
    "\n",
    "keras의 **callback**을 사용해 구현\n",
    "- callback은 model의 fit() method가 호출될 때 전달되는 object(특정 method를 구현한 class 객체)이다\n",
    "- callback은 model의 상태와 성능에 대한 모든 정보에 접근하고 train 중지, model 저장, 가중치 적재 또는 모델 상태 변경 등을 처리할 수 있다"
   ]
  },
  {
   "cell_type": "markdown",
   "metadata": {},
   "source": [
    "#### 1. callback을 사용하는 사례\n",
    "1. model checkpoint 저장: train 동안 어떤 지점에서 model의 현재 가중치를 저장한다\n",
    "2. 조기 종료(ealry stopping): val_loss가  더 이상 향상되지 않을 때 train을 중지\n",
    "3. train하는 동안 hyper parameter 값을 동적으로 조정: optimizer의 learning rate같은 경우\n",
    "4. train과 validation 지표를 로그에 기록하거나 model이 학습한 표현이 update될 때 마다 시각화한다: 앞서 본 keras 진행 표시줄(verbos)이 하나의 callback이다\n",
    "\n",
    "- `keras.callbacks.ModelCheckpoint`\n",
    "- `keras.callbacks.EarlyStopping`\n",
    "- `keras.callbacks.LearningRateScheduler`\n",
    "- `keras.callbacks.ReduceLR0nPlateau`\n",
    "- `keras.callbacks.CSVLogger`"
   ]
  },
  {
   "cell_type": "markdown",
   "metadata": {},
   "source": [
    "> **TIP**   \n",
    "> keras model은 fit() method를 반환하는 history 객체를 위한 History callback,    \n",
    "matric의 평균을 계산하는 BaseLogger callback,   \n",
    "fit() method에 verbose=0을 지정하지 않았다면 자동으로 진행표시줄을 위한 ProgbarLogger callback이 추가된다"
   ]
  },
  {
   "cell_type": "markdown",
   "metadata": {},
   "source": [
    "#### 2. ModelCheckpoint와 EarlyStopping callback\n",
    "\n",
    "정해진 epoch 동안 모니터링 지표가 향상되지 않을 train을 중지할 수 있다\n",
    "- ex) 과대적합이 시작되자마자 train을 중지\n",
    "    + 따라서 epoch 횟수를 줄여 다시 model을 train할 필요가 없다\n",
    "- 일반적으로 이 callback 함수는 train동안 model을 계속 저장해주는 `ModelCheckpoint`와 함께 사용\n"
   ]
  },
  {
   "cell_type": "code",
   "execution_count": 10,
   "metadata": {
    "jupyter": {
     "source_hidden": true
    }
   },
   "outputs": [],
   "source": [
    "import keras\n",
    "import os"
   ]
  },
  {
   "cell_type": "code",
   "execution_count": 8,
   "metadata": {},
   "outputs": [
    {
     "name": "stdout",
     "output_type": "stream",
     "text": [
      "Model: \"sequential_1\"\n",
      "_________________________________________________________________\n",
      "Layer (type)                 Output Shape              Param #   \n",
      "=================================================================\n",
      "conv2d_4 (Conv2D)            (None, 148, 148, 32)      896       \n",
      "_________________________________________________________________\n",
      "max_pooling2d_4 (MaxPooling2 (None, 74, 74, 32)        0         \n",
      "_________________________________________________________________\n",
      "conv2d_5 (Conv2D)            (None, 72, 72, 64)        18496     \n",
      "_________________________________________________________________\n",
      "max_pooling2d_5 (MaxPooling2 (None, 36, 36, 64)        0         \n",
      "_________________________________________________________________\n",
      "conv2d_6 (Conv2D)            (None, 34, 34, 128)       73856     \n",
      "_________________________________________________________________\n",
      "max_pooling2d_6 (MaxPooling2 (None, 17, 17, 128)       0         \n",
      "_________________________________________________________________\n",
      "conv2d_7 (Conv2D)            (None, 15, 15, 128)       147584    \n",
      "_________________________________________________________________\n",
      "max_pooling2d_7 (MaxPooling2 (None, 7, 7, 128)         0         \n",
      "_________________________________________________________________\n",
      "flatten_1 (Flatten)          (None, 6272)              0         \n",
      "_________________________________________________________________\n",
      "dropout (Dropout)            (None, 6272)              0         \n",
      "_________________________________________________________________\n",
      "dense_2 (Dense)              (None, 512)               3211776   \n",
      "_________________________________________________________________\n",
      "dense_3 (Dense)              (None, 1)                 513       \n",
      "=================================================================\n",
      "Total params: 3,453,121\n",
      "Trainable params: 3,453,121\n",
      "Non-trainable params: 0\n",
      "_________________________________________________________________\n"
     ]
    }
   ],
   "source": [
    "from keras.models import load_model\n",
    "\n",
    "# input shape: (150,150,3)\n",
    "model = load_model('cats_and_dogs_small_2.h5')\n",
    "model.summary()  # 기억을 되살리기 위해서 모델 구조를 출력합니다"
   ]
  },
  {
   "cell_type": "code",
   "execution_count": 12,
   "metadata": {},
   "outputs": [
    {
     "name": "stdout",
     "output_type": "stream",
     "text": [
      "Found 2000 images belonging to 2 classes.\n",
      "Found 1000 images belonging to 2 classes.\n"
     ]
    }
   ],
   "source": [
    "from keras.preprocessing.image import ImageDataGenerator\n",
    "\n",
    "base_dir = './006975/datasets/cats_and_dogs_small'\n",
    "train_dir = os.path.join(base_dir, 'train')\n",
    "validation_dir = os.path.join(base_dir, 'validation')\n",
    "\n",
    "train_datagen = ImageDataGenerator(\n",
    "    rescale=1./255,\n",
    "    rotation_range=40,\n",
    "    width_shift_range=0.2,\n",
    "    height_shift_range=0.2,\n",
    "    shear_range=0.2,\n",
    "    zoom_range=0.2,\n",
    "    horizontal_flip=True,)\n",
    "\n",
    "# 검증 데이터는 증식되어서는 안 됩니다!\n",
    "test_datagen = ImageDataGenerator(rescale=1./255)\n",
    "\n",
    "train_generator = train_datagen.flow_from_directory(\n",
    "        # 타깃 디렉터리\n",
    "        train_dir,\n",
    "        # 모든 이미지를 150 × 150 크기로 바꿉니다\n",
    "        target_size=(150, 150),\n",
    "        batch_size=32,\n",
    "        # binary_crossentropy 손실을 사용하기 때문에 이진 레이블을 만들어야 합니다\n",
    "        class_mode='binary')\n",
    "\n",
    "validation_generator = test_datagen.flow_from_directory(\n",
    "        validation_dir,\n",
    "        target_size=(150, 150),\n",
    "        batch_size=32,\n",
    "        class_mode='binary')"
   ]
  },
  {
   "cell_type": "code",
   "execution_count": 13,
   "metadata": {},
   "outputs": [],
   "source": [
    "model.compile(loss='binary_crossentropy',\n",
    "              optimizer='rmsprop',\n",
    "              metrics=['acc'])"
   ]
  },
  {
   "cell_type": "code",
   "execution_count": 14,
   "metadata": {},
   "outputs": [],
   "source": [
    "# fit()에 callbacks 매개변수를 사용해 list를 model로 전달 -> callback이 여러개여도 전달 가능\n",
    "callbacks_list=[\n",
    "    \n",
    "    # 성능 향상이 멈추면 train 중지\n",
    "    keras.callbacks.EarlyStopping(\n",
    "        # model의 val_acc를 모니터링한다\n",
    "        monitor='val_acc', \n",
    "        # 1 epoch보다 길게 acc가 향상되지 않으면 train 중지\n",
    "        patience=1\n",
    "    ), \n",
    "    \n",
    "    # epoch마다 현재 가중치를 저장\n",
    "    keras.callbacks.ModelCheckpoint(\n",
    "        #model file 경로\n",
    "        filepath='.\\cats_and_dogs_small_2.h5', \n",
    "        # val_loss가 좋아지지 않으면 model file을 덮어쓰지 않는다는 뜻이다\n",
    "        monitor='val_loss', \n",
    "        save_best_only=True\n",
    "    )\n",
    "]"
   ]
  },
  {
   "cell_type": "code",
   "execution_count": 23,
   "metadata": {},
   "outputs": [
    {
     "name": "stdout",
     "output_type": "stream",
     "text": [
      "Epoch 1/10\n",
      "50/50 [==============================] - 22s 434ms/step - loss: 0.6184 - acc: 0.6831 - val_loss: 0.5836 - val_acc: 0.6825\n",
      "Epoch 2/10\n",
      "50/50 [==============================] - 22s 441ms/step - loss: 0.6568 - acc: 0.6585 - val_loss: 0.5980 - val_acc: 0.6587\n"
     ]
    }
   ],
   "source": [
    "history = model.fit_generator(\n",
    "      train_generator,\n",
    "      steps_per_epoch=50,\n",
    "      epochs=10,\n",
    "      callbacks=callbacks_list,\n",
    "      validation_data=validation_generator,\n",
    "      validation_steps=25)"
   ]
  },
  {
   "cell_type": "markdown",
   "metadata": {},
   "source": [
    "#### 2.ReduceLROnPlateau callback\n",
    "val_loss가 향상되지 않을 때 learning rate을 작게 할 수 있다\n",
    "- loss 곡선이 평탄할 때 learning rate을 작게 하거나 크게 하면 train 도중 지역 최솟값에서 효과적으로 빠져나올 수 있다\n",
    "\n",
    "\n"
   ]
  },
  {
   "cell_type": "code",
   "execution_count": 27,
   "metadata": {},
   "outputs": [],
   "source": [
    "callbacks_list=[\n",
    "    \n",
    "    # 성능 향상이 멈추면 train 중지\n",
    "    keras.callbacks.ReduceLROnPlateau(\n",
    "        # model의 val_acc를 모니터링한다\n",
    "        monitor='val_loss', \n",
    "        # callback이 호출됭 때 학습률을 10배 줄인다\n",
    "        factor=0.1,\n",
    "        # val_loss가 10 epoch동안 좋아지지 않으면 callback을 호출한다 \n",
    "        patience=10\n",
    "    )\n",
    "]"
   ]
  },
  {
   "cell_type": "code",
   "execution_count": 28,
   "metadata": {},
   "outputs": [
    {
     "name": "stdout",
     "output_type": "stream",
     "text": [
      "Epoch 1/10\n",
      "50/50 [==============================] - 22s 430ms/step - loss: 0.5118 - acc: 0.7538 - val_loss: 0.4917 - val_acc: 0.7575\n",
      "Epoch 2/10\n",
      "50/50 [==============================] - 22s 430ms/step - loss: 0.5249 - acc: 0.7304 - val_loss: 0.4993 - val_acc: 0.7588\n",
      "Epoch 3/10\n",
      "50/50 [==============================] - 22s 437ms/step - loss: 0.5196 - acc: 0.7380 - val_loss: 0.4841 - val_acc: 0.7625\n",
      "Epoch 4/10\n",
      "50/50 [==============================] - 22s 438ms/step - loss: 0.5078 - acc: 0.7513 - val_loss: 0.4989 - val_acc: 0.7563\n",
      "Epoch 5/10\n",
      "50/50 [==============================] - 22s 444ms/step - loss: 0.4971 - acc: 0.7631 - val_loss: 0.5101 - val_acc: 0.7487\n",
      "Epoch 6/10\n",
      "50/50 [==============================] - 22s 441ms/step - loss: 0.5080 - acc: 0.7633 - val_loss: 0.5147 - val_acc: 0.7437\n",
      "Epoch 7/10\n",
      "50/50 [==============================] - 22s 444ms/step - loss: 0.5106 - acc: 0.7425 - val_loss: 0.4960 - val_acc: 0.7563\n",
      "Epoch 8/10\n",
      "50/50 [==============================] - 22s 442ms/step - loss: 0.5132 - acc: 0.7468 - val_loss: 0.4808 - val_acc: 0.7750\n",
      "Epoch 9/10\n",
      "50/50 [==============================] - 22s 442ms/step - loss: 0.5210 - acc: 0.7405 - val_loss: 0.4988 - val_acc: 0.7538\n",
      "Epoch 10/10\n",
      "50/50 [==============================] - 22s 442ms/step - loss: 0.5317 - acc: 0.7342 - val_loss: 0.5040 - val_acc: 0.7538\n"
     ]
    }
   ],
   "source": [
    "history = model.fit_generator(\n",
    "      train_generator,\n",
    "      steps_per_epoch=50,\n",
    "      epochs=10,\n",
    "      callbacks=callbacks_list,\n",
    "      validation_data=validation_generator,\n",
    "      validation_steps=25)"
   ]
  },
  {
   "cell_type": "markdown",
   "metadata": {},
   "source": [
    "#### 3. 자신만의 callback 만들기\n",
    "\n",
    "내장 callback에서 제공하지 않는 특수한 행동이 훈련도중 필요하면 자신만의 callback을 만들 수 있다\n",
    "1. callback은 `keras.callbacks.Callback` class를 상속받아 구현한다\n",
    "2. train 동안 호출될 여러 지점을 나타내기 위해 약속한 method를 구현\n",
    "    + `on_epoch_end`: 각 epoch가 끝날 때 호출한다\n",
    "    + log 매개변수와 함께 호출: 이전 batch, epoch에 대한 train과 validation 측정값이 담겨있는 dictionary가 전달\n",
    "3. 또한 callback은 다음 속성을 참조할 수 있다\n",
    "    + `self.model`: callback을 호출하는 model 객체\n",
    "    + `self.validation_data`: fit() method에 전달된 validation data\n",
    "    "
   ]
  },
  {
   "cell_type": "code",
   "execution_count": 29,
   "metadata": {},
   "outputs": [],
   "source": [
    "import keras\n",
    "import numpy as np\n",
    "\n",
    "class ActivationLogger(keras.callbacks.Callback):\n",
    "    \n",
    "    # 호출하는 model에 대한 정보를 전달하기 위해 train 전에 호출된다\n",
    "    def set_model(self, model):\n",
    "        self.model=model\n",
    "        layer_output=[layer.output for layer in model.layer]\n",
    "        self.activations_model=keras.models.Model(model.input,\n",
    "                                                 layer_outputs) # 각 layer의 활성화 출력을 반환하는 model 객체다\n",
    "        \n",
    "    def on_epoch_end(self, epoch, logs=None):\n",
    "        if self.validation_data is None:\n",
    "            raise RuntimeError('Requires validation_data.')\n",
    "            \n",
    "        # validation data의 첫번째 sample을 가져온다\n",
    "        validation_sample=self.validation_data[0][0:1]\n",
    "        activations= self.activations_model.predict(validation_sample)\n",
    "        f= open('activations_at_epoch_'+str(epoch)+'.npz','wb')\n",
    "        np.savez(f,activations)\n",
    "        f.close()"
   ]
  },
  {
   "cell_type": "code",
   "execution_count": null,
   "metadata": {
    "jupyter": {
     "source_hidden": true
    }
   },
   "outputs": [],
   "source": [
    "ActivationLogger.on_epoch_end(\n",
    "    self,\n",
    "    epoch=32\n",
    ")"
   ]
  },
  {
   "cell_type": "markdown",
   "metadata": {},
   "source": [
    "## 2) Tensorboard 소개: tensorflow의 시각화 framework\n",
    "\n",
    "발전은 반복되는 process 또는 loof를 통해 일어난다.   \n",
    "한 아이디어가 떠오르면 이 아이디어를 검증할 실험을 계획하고, 실험을 수행한 후 생성된 정보를 가공한다\n",
    "- 이러한 loof를 더 많이 실행할수록 아이디어는 더 정제되고 강력해진다\n",
    "- keras는 가능한 최단 시간에 아이디어를 실험으로 구현하도록 도와준다\n",
    "- 고속의 GPU가 가능한 빠르게 실험의 결과를 얻도록 돕고, Tensor board는 실험결과를 처리한다"
   ]
  },
  {
   "attachments": {
    "59b90808-d4e3-441c-8b65-d89504ccb07d.png": {
     "image/png": "[encoded data removed]"
    }
   },
   "cell_type": "markdown",
   "metadata": {},
   "source": [
    "![image.png](attachment:59b90808-d4e3-441c-8b65-d89504ccb07d.png)"
   ]
  },
  {
   "cell_type": "markdown",
   "metadata": {},
   "source": [
    "이 chapter에서는 tensorflow와 함께 제공되는 브라우저 기반 시각화 도구인 **tensor board**를 소개한다   \n",
    "(tensor flow 백엔드로 케라스를 설정한 경우에만 케라스 model에서 사용할 수 있다)\n",
    "\n",
    "#### 1. Tensor Board의 기능 \n",
    "1. 훈련하는 동안 matric을 시각적으로 모니터링한다\n",
    "2. model 구조를 시각화한다\n",
    "3. 활성화 출력과 gradient histogram을 그린다\n",
    "4. 3D로 embedding을 표현한다."
   ]
  },
  {
   "cell_type": "markdown",
   "metadata": {},
   "source": [
    "ex) IMDB 영화리뷰 감성 분석 문제를 위해 1D convnet을 훈련\n",
    "- IMDB data set: 인터넷 영화 데이터베이스로부터 가져온 양극단의 리뷰 5만개로 이뤄진 data set이다\n",
    "    + train data: 2만 5000개, test data: 2만 5000개로 나뉘어 있으며, 각각 긍정과 부정이 50%를 차지한다\n",
    "    + 빈도가 높은 2000개의 단어만 사용할 것!-> 단어 embedding을 시각화하기 조금 더 쉬워짐"
   ]
  },
  {
   "cell_type": "code",
   "execution_count": 44,
   "metadata": {},
   "outputs": [
    {
     "name": "stdout",
     "output_type": "stream",
     "text": [
      "Model: \"sequential_3\"\n",
      "_________________________________________________________________\n",
      "Layer (type)                 Output Shape              Param #   \n",
      "=================================================================\n",
      "embed (Embedding)            (None, 500, 128)          256000    \n",
      "_________________________________________________________________\n",
      "conv1d_6 (Conv1D)            (None, 494, 32)           28704     \n",
      "_________________________________________________________________\n",
      "max_pooling1d_3 (MaxPooling1 (None, 98, 32)            0         \n",
      "_________________________________________________________________\n",
      "conv1d_7 (Conv1D)            (None, 92, 32)            7200      \n",
      "_________________________________________________________________\n",
      "global_max_pooling1d_3 (Glob (None, 32)                0         \n",
      "_________________________________________________________________\n",
      "dense_3 (Dense)              (None, 1)                 33        \n",
      "=================================================================\n",
      "Total params: 291,937\n",
      "Trainable params: 291,937\n",
      "Non-trainable params: 0\n",
      "_________________________________________________________________\n"
     ]
    }
   ],
   "source": [
    "import keras\n",
    "from keras import layers\n",
    "from keras.datasets import imdb\n",
    "from keras.preprocessing import sequence\n",
    "\n",
    "max_features=2000 # feature로 사용할 단어의 수\n",
    "max_len=500 #사용할 text의 길이\n",
    "\n",
    "(x_train, y_train),(x_test,y_test)=imdb.load_data(num_words=max_features)\n",
    "\n",
    "\n",
    "def vectorize_sequences(sequences, dimension=max_features):\n",
    "    # 크기가 (len(sequences), dimension))이고 모든 원소가 0인 행렬을 만듭니다\n",
    "    results = np.zeros((len(sequences), dimension))\n",
    "    for i, sequence in enumerate(sequences):\n",
    "        results[i, sequence] = 1.  # results[i]에서 특정 인덱스의 위치를 1로 만듭니다\n",
    "    return results\n",
    "\n",
    "# 훈련 데이터를 벡터로 변환합니다\n",
    "x_train = vectorize_sequences(x_train)\n",
    "# 테스트 데이터를 벡터로 변환합니다\n",
    "x_test = vectorize_sequences(x_test)\n",
    "\n",
    "\n",
    "#This function transforms a list (of length num_samples) of sequences (lists of integers) into a 2D Numpy array of shape (num_samples, num_timesteps).\n",
    "#x_trian= sequence.pad_sequences(x_train, maxlen=max_len)\n",
    "#x_test= sequence.pad_sequences(x_test, maxlen=max_len)\n",
    "\n",
    "y_train = np.asarray(y_train).astype('float32')\n",
    "y_test = np.asarray(y_test).astype('float32')\n",
    "\n",
    "model=keras.models.Sequential()\n",
    "model.add(layers.Embedding(max_features,128,input_length=max_len, name='embed'))\n",
    "model.add(layers.Conv1D(32,7,activation='relu'))\n",
    "model.add(layers.MaxPooling1D(5))\n",
    "model.add(layers.Conv1D(32,7,activation='relu'))\n",
    "model.add(layers.GlobalMaxPooling1D())\n",
    "model.add(layers.Dense(1))\n",
    "model.summary()\n",
    "\n",
    "model.compile(optimizer='rmsprop', loss='binary_crossentropy', metrics=['acc'])"
   ]
  },
  {
   "cell_type": "markdown",
   "metadata": {},
   "source": [
    "tensor board를 시작 전에 log 파일이 저장될 directory를 만들어야 한다"
   ]
  },
  {
   "cell_type": "code",
   "execution_count": 31,
   "metadata": {},
   "outputs": [],
   "source": [
    "mkdir my_log_dir"
   ]
  },
  {
   "cell_type": "code",
   "execution_count": 45,
   "metadata": {},
   "outputs": [],
   "source": [
    "callbacks=[\n",
    "    keras.callbacks.TensorBoard(\n",
    "        # log파일이 기록될 위치\n",
    "        log_dir='my_log_dir',\n",
    "        # 1 epoch마다 활성화 출력의 histogram을 기록\n",
    "        histogram_freq=1, \n",
    "        # 1 epoch마다 embedding을 기록한다\n",
    "        embeddings_freq=1)\n",
    "]"
   ]
  },
  {
   "cell_type": "code",
   "execution_count": 46,
   "metadata": {},
   "outputs": [
    {
     "name": "stdout",
     "output_type": "stream",
     "text": [
      "Epoch 1/20\n",
      "WARNING:tensorflow:Model was constructed with shape (None, 500) for input KerasTensor(type_spec=TensorSpec(shape=(None, 500), dtype=tf.float32, name='embed_input'), name='embed_input', description=\"created by layer 'embed_input'\"), but it was called on an input with incompatible shape (None, 2000).\n",
      "WARNING:tensorflow:Model was constructed with shape (None, 500) for input KerasTensor(type_spec=TensorSpec(shape=(None, 500), dtype=tf.float32, name='embed_input'), name='embed_input', description=\"created by layer 'embed_input'\"), but it was called on an input with incompatible shape (None, 2000).\n",
      "157/157 [==============================] - ETA: 0s - loss: 7.7645 - acc: 0.4966WARNING:tensorflow:Model was constructed with shape (None, 500) for input KerasTensor(type_spec=TensorSpec(shape=(None, 500), dtype=tf.float32, name='embed_input'), name='embed_input', description=\"created by layer 'embed_input'\"), but it was called on an input with incompatible shape (None, 2000).\n",
      "157/157 [==============================] - 69s 436ms/step - loss: 7.7643 - acc: 0.4966 - val_loss: 7.6168 - val_acc: 0.5062\n",
      "Epoch 2/20\n",
      "157/157 [==============================] - 70s 447ms/step - loss: 7.7407 - acc: 0.4982 - val_loss: 7.6168 - val_acc: 0.5062\n",
      "Epoch 3/20\n",
      "157/157 [==============================] - 67s 428ms/step - loss: 7.6880 - acc: 0.5016 - val_loss: 7.6168 - val_acc: 0.5062\n",
      "Epoch 4/20\n",
      "157/157 [==============================] - 67s 427ms/step - loss: 7.7140 - acc: 0.4999 - val_loss: 7.6168 - val_acc: 0.5062\n",
      "Epoch 5/20\n",
      "157/157 [==============================] - 68s 432ms/step - loss: 7.7044 - acc: 0.5005 - val_loss: 7.6168 - val_acc: 0.5062\n",
      "Epoch 6/20\n",
      "157/157 [==============================] - 66s 424ms/step - loss: 7.7244 - acc: 0.4992 - val_loss: 7.6168 - val_acc: 0.5062\n",
      "Epoch 7/20\n",
      "157/157 [==============================] - 67s 426ms/step - loss: 7.7128 - acc: 0.5000 - val_loss: 7.6168 - val_acc: 0.5062\n",
      "Epoch 8/20\n",
      "157/157 [==============================] - 66s 422ms/step - loss: 7.8118 - acc: 0.4936 - val_loss: 7.6168 - val_acc: 0.5062\n",
      "Epoch 9/20\n",
      "157/157 [==============================] - 67s 427ms/step - loss: 7.7433 - acc: 0.4980 - val_loss: 7.6168 - val_acc: 0.5062\n",
      "Epoch 10/20\n",
      "157/157 [==============================] - 67s 426ms/step - loss: 7.7876 - acc: 0.4951 - val_loss: 7.6168 - val_acc: 0.5062\n",
      "Epoch 11/20\n",
      "157/157 [==============================] - 68s 434ms/step - loss: 7.7392 - acc: 0.4983 - val_loss: 7.6168 - val_acc: 0.5062\n",
      "Epoch 12/20\n",
      "157/157 [==============================] - 68s 431ms/step - loss: 7.7568 - acc: 0.4971 - val_loss: 7.6168 - val_acc: 0.5062\n",
      "Epoch 13/20\n",
      "157/157 [==============================] - 69s 437ms/step - loss: 7.6500 - acc: 0.5041 - val_loss: 7.6168 - val_acc: 0.5062\n",
      "Epoch 14/20\n",
      "157/157 [==============================] - 77s 488ms/step - loss: 7.8255 - acc: 0.4927 - val_loss: 7.6168 - val_acc: 0.5062\n",
      "Epoch 15/20\n",
      "157/157 [==============================] - 70s 448ms/step - loss: 7.7701 - acc: 0.4963 - val_loss: 7.6168 - val_acc: 0.5062\n",
      "Epoch 16/20\n",
      "157/157 [==============================] - 69s 439ms/step - loss: 7.7112 - acc: 0.5001 - val_loss: 7.6168 - val_acc: 0.5062\n",
      "Epoch 17/20\n",
      "157/157 [==============================] - 69s 441ms/step - loss: 7.7264 - acc: 0.4991 - val_loss: 7.6168 - val_acc: 0.5062\n",
      "Epoch 18/20\n",
      "157/157 [==============================] - 69s 442ms/step - loss: 7.7422 - acc: 0.4981 - val_loss: 7.6168 - val_acc: 0.5062\n",
      "Epoch 19/20\n",
      "157/157 [==============================] - 70s 447ms/step - loss: 7.7583 - acc: 0.4970 - val_loss: 7.6168 - val_acc: 0.5062\n",
      "Epoch 20/20\n",
      "157/157 [==============================] - 72s 458ms/step - loss: 7.6914 - acc: 0.5014 - val_loss: 7.6168 - val_acc: 0.5062\n"
     ]
    }
   ],
   "source": [
    "history=model.fit(x_train, y_train, epochs=20, batch_size=128, validation_split=0.2, callbacks=callbacks)"
   ]
  },
  {
   "cell_type": "markdown",
   "metadata": {},
   "source": [
    "`tensorboard --logdir=my_log_dir`"
   ]
  },
  {
   "cell_type": "code",
   "execution_count": 51,
   "metadata": {},
   "outputs": [
    {
     "name": "stdout",
     "output_type": "stream",
     "text": [
      "('Failed to import pydot. You must `pip install pydot` and install graphviz (https://graphviz.gitlab.io/download/), ', 'for `pydotprint` to work.')\n"
     ]
    }
   ],
   "source": [
    "from keras.utils import plot_model\n",
    "\n",
    "plot_model(model, to_file='model.png')"
   ]
  },
  {
   "cell_type": "code",
   "execution_count": 58,
   "metadata": {},
   "outputs": [
    {
     "name": "stdout",
     "output_type": "stream",
     "text": [
      "('Failed to import pydot. You must `pip install pydot` and install graphviz (https://graphviz.gitlab.io/download/), ', 'for `pydotprint` to work.')\n"
     ]
    }
   ],
   "source": [
    "from keras.utils import plot_model\n",
    "\n",
    "plot_model(model, to_file='model.png')"
   ]
  },
  {
   "cell_type": "code",
   "execution_count": 59,
   "metadata": {},
   "outputs": [
    {
     "name": "stdout",
     "output_type": "stream",
     "text": [
      "('Failed to import pydot. You must `pip install pydot` and install graphviz (https://graphviz.gitlab.io/download/), ', 'for `pydotprint` to work.')\n"
     ]
    }
   ],
   "source": [
    "from keras.utils import plot_model\n",
    "\n",
    "plot_model(model, show_shapes=True, to_file='model.png')"
   ]
  },
  {
   "cell_type": "code",
   "execution_count": null,
   "metadata": {},
   "outputs": [],
   "source": []
  }
 ],
 "metadata": {
  "kernelspec": {
   "display_name": "Python 3",
   "language": "python",
   "name": "python3"
  },
  "language_info": {
   "codemirror_mode": {
    "name": "ipython",
    "version": 3
   },
   "file_extension": ".py",
   "mimetype": "text/x-python",
   "name": "python",
   "nbconvert_exporter": "python",
   "pygments_lexer": "ipython3",
   "version": "3.8.5"
  }
 },
 "nbformat": 4,
 "nbformat_minor": 4
}
