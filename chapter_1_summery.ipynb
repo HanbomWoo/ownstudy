{
  "nbformat": 4,
  "nbformat_minor": 0,
  "metadata": {
    "colab": {
      "name": "chapter 1 summery.ipynb",
      "provenance": [],
      "collapsed_sections": [],
      "authorship_tag": "ABX9TyO7BlBk36uj3XIEKXGKYCOX",
      "include_colab_link": true
    },
    "kernelspec": {
      "name": "python3",
      "display_name": "Python 3"
    }
  },
  "cells": [
    {
      "cell_type": "markdown",
      "metadata": {
        "id": "view-in-github",
        "colab_type": "text"
      },
      "source": [
        "<a href=\"https://colab.research.google.com/github/HanbomWoo/ownstudy/blob/main/chapter_1_summery.ipynb\" target=\"_parent\"><img src=\"https://colab.research.google.com/assets/colab-badge.svg\" alt=\"Open In Colab\"/></a>"
      ]
    },
    {
      "cell_type": "markdown",
      "metadata": {
        "id": "H49HPxGQdlFk"
      },
      "source": [
        "# **Theorem 1. Uniqueness of the reduced Echelon Form**\n",
        "* each matrix is row equivalent to one and only one reduced echelon matrix.\n",
        "\n"
      ]
    },
    {
      "cell_type": "markdown",
      "metadata": {
        "id": "2t1fCBJtggCt"
      },
      "source": [
        "# **Theorem 2. Existence and Uniqueness Theorem**\n",
        "* A linear system is consistent if and only if the rightmost column of the augmented matrix is *not* a pivot column\n",
        "    - that is, if and only if an echelon form of the augmented matrix has *no* row of the form\n",
        "    - $\\begin{bmatrix}\n",
        "    0 & \\cdots & b \\\\\n",
        "    \\end{bmatrix}$ with b nonzero\n",
        "\n",
        "* if a linear system is consistent, the the solution set contains either (i) a unique solution   \n",
        "    - when there are no free variables\n",
        "* or (ii) infinitely many solutions, when there is at least one free variable"
      ]
    },
    {
      "cell_type": "markdown",
      "metadata": {
        "id": "DaOB2knri42f"
      },
      "source": [
        "# **Theorem 3**\n",
        "\n",
        "if A is an $m \\times n$, with columns ${\\mathbf a}_1,.....,{\\mathbf a}_n$, and if $b$ is in ${\\mathbb R}^m$:\n",
        "* the matrix equation is $Ax=b$\n",
        "* the same solution set as the vector equation$${x_1}{\\mathbf a}_1 + {x_2}{\\mathbf a}_2 + \\cdots + {x_n}{\\mathbf a}_n = b$$\n",
        "* the same solution set as the system of linear equations whose augmented is:\n",
        "$$\\begin{bmatrix}\n",
        "{\\mathbf a}_1 & {\\mathbf a}_2 & \\cdots & {\\mathbf a}_n & b\n",
        "\\end{bmatrix}$$"
      ]
    },
    {
      "cell_type": "markdown",
      "metadata": {
        "id": "A3zN-LJylbnP"
      },
      "source": [
        "# **Theorem 4**\n",
        "Let *A* be an $m \\times n$ matrix.\n",
        "* then the following statements are logically equivalent\n",
        "* That is, for a particular *A*, either they are all true statements or they are false\n",
        "    1. for each $b$ in ${\\mathbb R}^m$, the equation $Ax=b$ has a solution\n",
        "    2. Each $b$ in ${\\mathbb R}^m$ is a linear combination of the columns of *A*\n",
        "    3. The columns of *A* span ${\\mathbb R}^m$\n",
        "    4. *A* has a pivot position in every row"
      ]
    },
    {
      "cell_type": "markdown",
      "metadata": {
        "id": "GvCdSJbxlnBU"
      },
      "source": [
        "# **Theorem 5**\n",
        "if *A* is an $m \\times n$ matrix, $u$ and $v$ are vectors in ${\\mathbb R}^m$, and c is a scalar:\n",
        "1. $A(u+v)=Au+Av$\n",
        "2. $A(cu)=c(Au)$"
      ]
    },
    {
      "cell_type": "markdown",
      "metadata": {
        "id": "6CNGEWV8QTYG"
      },
      "source": [
        "# **Theorem 6**\n",
        "Suppose the equation $Ax=b$ is consistent for some given $b$, and let $p$ be a solution\n",
        "* Then the solution set of $Ax=b$ is the set of all vectors of the form $w=p+v_h$\n",
        "   - where $v_h$ is any solution of the homogeneous equation $Ax=0$"
      ]
    },
    {
      "cell_type": "markdown",
      "metadata": {
        "id": "fLXR_HAGRIGD"
      },
      "source": [
        "# **Theorem 7. Characterization of Linearly Dependent Sets**\n",
        "* An indexed set $S=\\begin{Bmatrix}\n",
        "v_1&\\cdots&v_p\\end{Bmatrix}$ of twom or more vectors is linearly dependent if and only if at least one of the vectors in S is a linear combination of the others\n",
        "* if S is linearly dependent and $v_1\\neq 0$\n",
        "    - then, some $v_j$(with j>1)is a linear combination of the preceding vectors, $v_1, .... ,v_{j-1} $"
      ]
    },
    {
      "cell_type": "markdown",
      "metadata": {
        "id": "xXv35cmWTEkB"
      },
      "source": [
        "# **Theorem 8**\n",
        "* if a set contains more vectors than there are entries in each vector,then the set is linearly dependent\n",
        "* any set $\\begin{Bmatrix}v_1&\\cdots&v_p\\end{Bmatrix}$ in ${\\mathbb R}^m$ is linearly dependent if *p*>*n*."
      ]
    },
    {
      "cell_type": "markdown",
      "metadata": {
        "id": "7f8aledaZHRx"
      },
      "source": [
        "# **Theorem 9**\n",
        "* if a set $S=\\begin{Bmatrix}\n",
        "v_1&\\cdots&v_p\\end{Bmatrix}$ in ${\\mathbb R}^m$ contains the zero vector, then the set is linearly dependent"
      ]
    },
    {
      "cell_type": "markdown",
      "metadata": {
        "id": "Gkh2rcyGZaJr"
      },
      "source": [
        "# **Theorem 10**\n",
        "Let $T: {\\mathbb R}^n \\to {\\mathbb R}^m$ be a linear transformation.\n",
        "* then, there exists a unique matrix A\n",
        "    - such that   \n",
        "       $T(x)=Ax$ for all x in ${\\mathbb R}^m$\n",
        "* In fact, A is the $m \\times n$ matrix whose *j*th column is the vector T($e_j$), where $e_j$ is the *j*th column of the identity matrix in ${\\mathbb R}^m$:\n",
        "    - $A=\\begin{bmatrix}\n",
        "    T(e_1) & \\cdots & T(e_n)\\end{bmatrix}$"
      ]
    },
    {
      "cell_type": "markdown",
      "metadata": {
        "id": "GPi77gAZbEaP"
      },
      "source": [
        "# **Theorem 11**\n",
        "Let $T: {\\mathbb R}^n \\to {\\mathbb R}^m$ be a linear transformation.\n",
        "* Then T is one-to-one if and only if the equation $T(x)=0$ has only the trivial solution"
      ]
    },
    {
      "cell_type": "markdown",
      "metadata": {
        "id": "Jk_rGGPfbaJA"
      },
      "source": [
        "# **Theorem 12**\n",
        "Let $T: {\\mathbb R}^n \\to {\\mathbb R}^m$ be a linear transformation, and let A be the standard matrix for T. Then:\n",
        "1. $T$ maps ${\\mathbb R}^n$ onto ${\\mathbb R}^m$ if and only if the columns of A span ${\\mathbb R}^m$;\n",
        "2. $T$ is one-to-one if and only if the columns of *A* are linearly independent\n"
      ]
    },
    {
      "cell_type": "code",
      "metadata": {
        "id": "_cuf8dIoccA9"
      },
      "source": [
        ""
      ],
      "execution_count": null,
      "outputs": []
    }
  ]
}