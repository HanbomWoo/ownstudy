{
  "nbformat": 4,
  "nbformat_minor": 0,
  "metadata": {
    "colab": {
      "name": "chapter 1 summery.ipynb",
      "provenance": [],
      "collapsed_sections": [],
      "authorship_tag": "ABX9TyO3WGjdxeYIB0A8d2qy0s34",
      "include_colab_link": true
    },
    "kernelspec": {
      "name": "python3",
      "display_name": "Python 3"
    }
  },
  "cells": [
    {
      "cell_type": "markdown",
      "metadata": {
        "id": "view-in-github",
        "colab_type": "text"
      },
      "source": [
        "<a href=\"https://colab.research.google.com/github/HanbomWoo/ownstudy/blob/main/chapter_1_summery.ipynb\" target=\"_parent\"><img src=\"https://colab.research.google.com/assets/colab-badge.svg\" alt=\"Open In Colab\"/></a>"
      ]
    },
    {
      "cell_type": "markdown",
      "metadata": {
        "id": "H49HPxGQdlFk"
      },
      "source": [
        "# Linear Equation\n",
        "## Matrix Notation\n",
        "\n",
        "## Elementary Row Operation\n",
        "\n",
        "## **Theorem 1. Uniqueness of the reduced Echelon Form**\n",
        "* each matrix is row equivalent to one and only one reduced echelon matrix.\n",
        "\n"
      ]
    },
    {
      "cell_type": "markdown",
      "metadata": {
        "id": "2t1fCBJtggCt"
      },
      "source": [
        "# **Theorem 2. Existence and Uniqueness Theorem**\n",
        "* A linear system is consistent if and only if the rightmost column of the augmented matrix is *not* a pivot column\n",
        "    - that is, if and only if an echelon form of the augmented matrix has *no* row of the form\n",
        "    - $\\begin{bmatrix}\n",
        "    0 & \\cdots & b \\\\\n",
        "    \\end{bmatrix}$ with b nonzero\n",
        "\n",
        "* if a linear system is consistent, the the solution set contains either (i) a unique solution   \n",
        "    - when there are no free variables\n",
        "* or (ii) infinitely many solutions, when there is at least one free variable"
      ]
    },
    {
      "cell_type": "markdown",
      "metadata": {
        "id": "DaOB2knri42f"
      },
      "source": [
        "# 1.4 The Matrix Equation $Ax=b$\n",
        "Linear algebra에서 fundamental idea는 vector의 linear combination을 matrix와 vector의 product로 보는 것이다.\n",
        "\n",
        "> **DEFINITION**   \n",
        "> A가 an $m\\times n$ matrix(with coulmn $ {\\mathbf a}_1, \\cdots , {\\mathbf a}_n$, and if x is in ${\\mathbb R}^m$)라면,\n",
        ">* A와 x의 product(denoted by Ax)는 x의 corresponging entry를 가중치로 사용하여 A의 column을  linear combination한 것:\n",
        ">   - $Ax=\\begin{bmatrix}\n",
        "{\\mathbf a}_1 & {\\mathbf a}_2 & \\cdots & {\\mathbf a}_n\n",
        "\\end{bmatrix}\\begin{bmatrix}\n",
        "x_1\\\\\n",
        "\\vdots\\\\\n",
        "x_n\n",
        "\\end{bmatrix}= {x_1}{a_1}+ {x_2}{a_2}+ \\cdots+{x_n}{a_n}\n",
        "$\n",
        "\n",
        ">**NOTE**  \n",
        "> A의 column 수가 x의 entries 수와 동일한 경우에만 $Ax$가 정의 \n",
        "\n",
        "## **Theorem 3**\n",
        "\n",
        "A가 $m \\times n$(with columns ${\\mathbf a}_1,.....,{\\mathbf a}_n$), 그리고 $b$ in ${\\mathbb R}^m$이라면:\n",
        "* matrix equation는 $Ax=b$\n",
        "* vector equation로서 같은 equation은; \n",
        "  - $${x_1}{\\mathbf a}_1 + {x_2}{\\mathbf a}_2 + \\cdots + {x_n}{\\mathbf a}_n = b$$\n",
        "* system of linear equations(*augmented* matrix)로서 같은 equation:\n",
        "$$\\begin{bmatrix}\n",
        "{\\mathbf a}_1 & {\\mathbf a}_2 & \\cdots & {\\mathbf a}_n & b\n",
        "\\end{bmatrix}$$\n",
        "\n",
        "> **Existence of solutionsP**   \n",
        "> $Ax=b$는 $b$가 $A$ column의 linear combination일 때만 오직 solution을 갖는다\n",
        "\n",
        "\n",
        "\n"
      ]
    },
    {
      "cell_type": "markdown",
      "metadata": {
        "id": "A3zN-LJylbnP"
      },
      "source": [
        "\n",
        "\n",
        "## **Theorem 4**\n",
        "*A*가 $m \\times n$ matrix 이다\n",
        "* 뒤의 statements는 logically equivalent하다고 볼 수 있다.\n",
        "* coefficient matrix인 *A*에 대해, statements들은 모두 True거나 False다\n",
        "    1. for each $b$ in ${\\mathbb R}^m$, the equation $Ax=b$ has a solution\n",
        "    2. Each $b$ in ${\\mathbb R}^m$ is a linear combination of the columns of *A*\n",
        "    3. The columns of *A* span ${\\mathbb R}^m$\n",
        "    4. *A* has a pivot position in every row\n",
        "\n",
        ">**Proof**    \n",
        "> statement (a), (d)의 관계를 살펴보자    \n",
        ">[$A$ $b$]를 row reduction하여 $A$의 echelon form인 $U$와 ${\\mathbb R}^m$ 안의 d로 나타낼 수 있다 : [$U$ $d$]\n",
        ">* (d)가 true인 경우   \n",
        ">    $U$의 각 row는 pivot position을 갖고, augmented column($d$)는 pivot을 갖지 못한다\n",
        ">    - 따라서, $Ax=b$는 어떤한 b에도 solution을 갖는다-> (a)가 성립한다\n",
        ">* (d)가 False인 경우   \n",
        ">  $U$의 마지막 row는 all zero가 되며, 따라서 [$U$ $d$]는 inconsistent system이다\n",
        ">    - row operation은 역으로도 가능하기 때문에, Ax=b또한 inconsistent다 -> (a)는 성립하지 못한다 "
      ]
    },
    {
      "cell_type": "markdown",
      "metadata": {
        "id": "GvCdSJbxlnBU"
      },
      "source": [
        "## Indentity Matrix\n",
        "대각선 상에 1이 있고, 다른 곳에 0이 있는 matrix은 'Identity Matrix'로 불리고 $I$로 표기된다\n",
        "* ex) \\begin{bmatrix}\n",
        "1& 0& 0\\\\\n",
        "0& 1& 0\\\\\n",
        "0& 0& 1\n",
        "\\end{bmatrix}\n",
        "\n",
        "## Properties of the Matrix-Vector Product Ax -> **Theorem 5**\n",
        "*A*가 $m \\times n$일 때, $u$와 $v$ ${\\mathbb R}^m$의 vector, c는 scalar이다:\n",
        "1. $A(u+v)=Au+Av$\n",
        "2. $A(cu)=c(Au)$\n",
        "\n",
        "----------------------"
      ]
    },
    {
      "cell_type": "markdown",
      "metadata": {
        "id": "6CNGEWV8QTYG"
      },
      "source": [
        "#1.5 Solution Set of Linear System\n",
        "\n",
        "## Homogeneous Linear System\n",
        "linear equation이 Ax=0라면, **homogeneous**하다고 말할 수 있다.   \n",
        "(A는 $m \\times n$ matrix이며 0은 ${\\mathbb R}^m$의 zero vector이다)\n",
        "* $Ax=0$ system은 항상 적어도 하나의 solution을 갖는다;\n",
        "  - **trivial solution**: $x=0$\n",
        "*  $Ax=0$ equation에서, 주의해야하는 것은 **nontrivial solution** 여부이다\n",
        "  -**nontrivial solution**: $Ax=0$을 만족시키는 nonzero vector x\n",
        "  - equtaion이 적어도 하나의 free variable을 가지면 homogeneou equation Ax=0은 nontrivial하다 \n",
        "\n",
        "## Parametric Vector Form\n",
        ">**Example**   \n",
        ">1)$$10x_1-3x_2-2x_3=0$$\n",
        ">2)$$x=\\begin{bmatrix}\n",
        "x_1 \\\\\n",
        "x_2 \\\\\n",
        "x_3\n",
        "\\end{bmatrix}=\\begin{bmatrix}\n",
        "0.3{x_2}+0.2{x_3} \\\\\n",
        "x_2 \\\\\n",
        "x_3\n",
        "\\end{bmatrix}$=\\begin{bmatrix}\n",
        "0.3{x_2} \\\\\n",
        "x_2 \\\\\n",
        "0\n",
        "\\end{bmatrix}+\\begin{bmatrix}\n",
        "0.2{x_3} \\\\\n",
        "0 \\\\\n",
        "x_3\n",
        "\\end{bmatrix}={x_2}{ \\begin{bmatrix}\n",
        "0.3 \\\\\n",
        "1 \\\\\n",
        "0\n",
        "\\end{bmatrix}}+{x_3}{\\begin{bmatrix}\n",
        "0.2 \\\\\n",
        "0 \\\\\n",
        "1 \n",
        "\\end{bmatrix}}$$ \n",
        "\n",
        "* equation (2)가 parametric vector equation form이다  \n",
        "    - example) $x= {x_2}u+{x_3}v$ -> parmetric vector) **$x=su+tv$**      (s,t in ${\\mathbb R}^m$\n",
        "* 단일 $x=tv$로 이뤄진 equation solution을 포함해 vector로 표현되는 solution set은 **parametric vector form**이다\n",
        "\n",
        "## Solutions of Nonhomogeneous Systems\n",
        "equation $Ax=b$에서는 solution set이 예2와 같은 형식으로 표현된다;\n",
        ">**Example2**   \n",
        ">$$x=\\begin{bmatrix}\n",
        "x_1 \\\\\n",
        "x_2 \\\\\n",
        "x_3\n",
        "\\end{bmatrix}=\\begin{bmatrix}\n",
        "-1+0.2{x_3} \\\\\n",
        "2 \\\\\n",
        "x_3\n",
        "\\end{bmatrix}$=\\begin{bmatrix}\n",
        "-1 \\\\\n",
        "2 \\\\\n",
        "0\n",
        "\\end{bmatrix}+\\begin{bmatrix}\n",
        "0.2{x_3} \\\\\n",
        "0 \\\\\n",
        "x_3\n",
        "\\end{bmatrix}={ \\begin{bmatrix}\n",
        "-1 \\\\\n",
        "2 \\\\\n",
        "0\n",
        "\\end{bmatrix}}+{x_3}{\\begin{bmatrix}\n",
        "0.2 \\\\\n",
        "0 \\\\\n",
        "1 \n",
        "\\end{bmatrix}}$$\n",
        "> nonhomogeneous solution은 homogeneous system에 상응하는 임의의 vector 조합에 하나의 vector가 더해진 form이다\n",
        "\n",
        "* equation '$x=p+tv$' form으로 표현($p$는 scalar vector)\n",
        "* homogeneous $Ax=0$의 solution $x=tv$에 $p$를 add \n",
        "    - **따라서 vector p는 $Ax=b$의 solution 중에 particular한 하나의 solution이다**\n",
        "* geometrically, $v$ vector가 p만큼 'translation'했다고 해석할 수 있다\n",
        "\n",
        "## **Theorem 6**\n",
        "equation $Ax=b$가 $b$에 대해 consistent 하며,$p$가 solution이라고 가정하면,\n",
        "* $Ax=b$의 solution set은 $w=p+v_h$의 all vector set이다\n",
        "   - 이때, $v_h$는 homogeneous equation $Ax=0$의 solution 중 아무거나이다\n",
        "> solution set은 $Ax=0$에 particular solution인 p에 대해 translation하여 얻을 수 있다\n",
        "\n",
        "## Writing a Solution Set (of a Consistent System) in Parametric Vector Form\n",
        "1. Row reduce the augmented matrix to reduced echelon form, RREF.\n",
        "2. 각 basic variable을 free variables로 표현\n",
        "3. 각 free variable에 상응하는 typical vector solution으로 2표현식을 나눠 적는다\n",
        "4. free variables을 parameters로 갖도록, x를 vector의 linear combination으로 표현\n",
        "\n",
        "----------------------"
      ]
    },
    {
      "cell_type": "markdown",
      "metadata": {
        "id": "fLXR_HAGRIGD"
      },
      "source": [
        "# 1.7 Linear Independence\n",
        "\n",
        ">**DEFNITION**   \n",
        "> ${\\mathbb R}^m$에서의 vector indexed set $\\begin{bmatrix}\n",
        "v_1 & \\cdots & v_n \n",
        "\\end{bmatrix}$에대해; \n",
        ">* ${x_1}{v_1}+{x_2}{v_2}+\\cdots +{x_n}{v_n}=0$ equation에서 trivial solution을 가질 시 **linearly independent**하다 \n",
        ">* ${c_1}{v_1}+{c_2}{v_2}+\\cdots +{c_n}{v_n}=0$에 대해 weight인 $ c_1, \\cdots , c_n $가 not all zero일 땐 **linearly dependent**하다 \n",
        "\n",
        "## Linear Independence of Matrix Columns\n",
        "vector set 대신 matrix $A=\\begin{bmatrix}{\\mathbf a}_1 & {\\mathbf a}_2 & \\cdots & {\\mathbf a}_n\\end{bmatrix}$에 대해;\n",
        "1. A의 각 column은 $Ax=0$에서 nontrivial solution을 가질 때 linear dependent하다\n",
        "2. matrix의 column은 $Ax=0$에서 오직 trivial solution가질 때만, linearly independent하다\n",
        "\n",
        "## Sets of One or Two Vectors\n",
        "vector v에 대해\n",
        "1. >* vector equation ${x_1}v=0$일 때 v가 zero vector가 아니면 trivial solution만을 가지므로, linear indepent하다\n",
        ">* v가 zero vector 일 경우, ${x_1}0=0$은 무수히 많은 nontrivial solution을 가지므로 linearly dependent하다\n",
        "\n",
        "2. 두개의 vectors $v_1$과 $v_2$에 대해, 한 vector가 다른 vector를 multiple한 것과 동일 할때, linearly dependent하다\n",
        "  - The set is linearly independent if and only if neither of the vectors is a multiple of the other.\n",
        "\n",
        "## Set of two or more Vector\n",
        "###**Theorem 7. Characterization of Linearly Dependent Sets**\n",
        "1. $S=\\begin{Bmatrix}v_1&\\cdots&v_p\\end{Bmatrix}$ 에서 vector 중 하나라도 S의 나머지 vector linear combination과 일치한다면,\n",
        "  -  two 또는 more vectors가 linearly dependent하다\n",
        "2. S가 linearly dependent하고 $v_1\\neq 0$라면((1)의 역),\n",
        "    - 어떤 $v_j$(with j>1)는 preceding vectors( $v_1, .... ,v_{j-1} $)의 linear combination이다"
      ]
    },
    {
      "cell_type": "markdown",
      "metadata": {
        "id": "xXv35cmWTEkB"
      },
      "source": [
        "# **Theorem 8**\n",
        "* 만약 matrix set의 vectors가 vector entries보다 많다면,그 set은 linearly dependent하다\n",
        "  - example) $$\\begin{bmatrix}* & * & * & * & * \\\\ * & * & * & * & * \\end{bmatrix}$$\n",
        "  p(column)=5, n(row)=2\n",
        "* *p*>*n*인 $\\begin{Bmatrix}v_1&\\cdots&v_p\\end{Bmatrix}$ in ${\\mathbb R}^m$ set은 linearly dependent하다"
      ]
    },
    {
      "cell_type": "markdown",
      "metadata": {
        "id": "7f8aledaZHRx"
      },
      "source": [
        "# **Theorem 9**\n",
        "* set $S=\\begin{Bmatrix}\n",
        "v_1&\\cdots&v_p\\end{Bmatrix}$ in ${\\mathbb R}^m$에서 zero vector를 포함하고 있다면 set은 linearly dependent하다\n",
        "\n",
        "------------------------"
      ]
    },
    {
      "cell_type": "markdown",
      "metadata": {
        "id": "Gkh2rcyGZaJr"
      },
      "source": [
        "# **Theorem 10**\n",
        "Let $T: {\\mathbb R}^n \\to {\\mathbb R}^m$ be a linear transformation.\n",
        "* then, there exists a unique matrix A\n",
        "    - such that   \n",
        "       $T(x)=Ax$ for all x in ${\\mathbb R}^m$\n",
        "* In fact, A is the $m \\times n$ matrix whose *j*th column is the vector T($e_j$), where $e_j$ is the *j*th column of the identity matrix in ${\\mathbb R}^m$:\n",
        "    - $A=\\begin{bmatrix}\n",
        "    T(e_1) & \\cdots & T(e_n)\\end{bmatrix}$"
      ]
    },
    {
      "cell_type": "markdown",
      "metadata": {
        "id": "GPi77gAZbEaP"
      },
      "source": [
        "# **Theorem 11**\n",
        "Let $T: {\\mathbb R}^n \\to {\\mathbb R}^m$ be a linear transformation.\n",
        "* Then T is one-to-one if and only if the equation $T(x)=0$ has only the trivial solution"
      ]
    },
    {
      "cell_type": "markdown",
      "metadata": {
        "id": "Jk_rGGPfbaJA"
      },
      "source": [
        "# **Theorem 12**\n",
        "Let $T: {\\mathbb R}^n \\to {\\mathbb R}^m$ be a linear transformation, and let A be the standard matrix for T. Then:\n",
        "1. $T$ maps ${\\mathbb R}^n$ onto ${\\mathbb R}^m$ if and only if the columns of A span ${\\mathbb R}^m$;\n",
        "2. $T$ is one-to-one if and only if the columns of *A* are linearly independent\n"
      ]
    },
    {
      "cell_type": "code",
      "metadata": {
        "id": "_cuf8dIoccA9"
      },
      "source": [
        ""
      ],
      "execution_count": null,
      "outputs": []
    }
  ]
}