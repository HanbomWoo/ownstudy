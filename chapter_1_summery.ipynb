{
  "nbformat": 4,
  "nbformat_minor": 0,
  "metadata": {
    "colab": {
      "name": "chapter 1 summery.ipynb",
      "provenance": [],
      "collapsed_sections": [],
      "authorship_tag": "ABX9TyMDrDf03COwz9YhG3l9JHDD",
      "include_colab_link": true
    },
    "kernelspec": {
      "name": "python3",
      "display_name": "Python 3"
    }
  },
  "cells": [
    {
      "cell_type": "markdown",
      "metadata": {
        "id": "view-in-github",
        "colab_type": "text"
      },
      "source": [
        "<a href=\"https://colab.research.google.com/github/HanbomWoo/ownstudy/blob/main/chapter_1_summery.ipynb\" target=\"_parent\"><img src=\"https://colab.research.google.com/assets/colab-badge.svg\" alt=\"Open In Colab\"/></a>"
      ]
    },
    {
      "cell_type": "markdown",
      "metadata": {
        "id": "H49HPxGQdlFk"
      },
      "source": [
        "# 1.1 Linear Equation\n",
        "\n",
        ">linear equation:\n",
        ">* $a_1x_1+a_2x_2+ \\cdots+a_nx_n=b(a,b는 상수)$\n",
        "  - **coefficient** a set과 b는 real or complex number\n",
        "*linearly equivalent: the same soulution set을 가진다. solution의 순서는 상관없다.\n",
        "*consistence: 해가 존재한다. 즉, 해가 오직 하나 존재할 수도 있고 여러 개가 존재할 수 있다. \n",
        "\n",
        "> system of linear equation has;\n",
        " 1. 해가 없는 경우(=inconsistent)\n",
        " 2. 해가 유일한 경우(unique한 해를 가짐.)\n",
        " 3. 해가 무수히 많은 경우   \n",
        ">\n",
        ">2번과 3번은 consistent한 경우다 \n",
        "\n",
        "## Matrix Notation\n",
        "$\\begin{bmatrix}\n",
        "1 & -2 & 1 \\\\\n",
        "0 & 2 & -8 \\\\\n",
        "5 & 0 & -5\n",
        "\\end{bmatrix}$ + $\\begin{bmatrix}\n",
        "0 \\\\\n",
        "8 \\\\\n",
        "-9\n",
        "\\end{bmatrix} $ = $\\begin{bmatrix}\n",
        "1 & -2 & 1 &0 \\\\\n",
        "0 & 2 & -8 & 8 \\\\\n",
        "5 & 0 & -5& -9\n",
        "\\end{bmatrix}$\n",
        "* **coefficient matrix + constant column vector = argument matrix**\n",
        "\n",
        "## Elementary Row Operation\n",
        "1. (Replacement) replace one row by the sum of itself and a multiple of another row\n",
        "2. (Interchange) Interchange two rows\n",
        "3. (Scaling) multiplt all entries in a row by a nonzero constant\n",
        "-------------------------------\n",
        "\n",
        "\n"
      ]
    },
    {
      "cell_type": "markdown",
      "metadata": {
        "id": "2t1fCBJtggCt"
      },
      "source": [
        "# 1.2 Row reduction and ECHELON form\n",
        "\n",
        "## ECHELON FORM(= row echelon form=REF)\n",
        "조건\n",
        "1. 모든 nonzero행은 all zero행 위에 있어야한다.\n",
        "2. 각각의 leading entry는 대각선으로 존재해야한다.    \n",
        "  - leading entry: nonzero인 행의 맨 왼쪽에 있는 요소\n",
        "3. leading entry 밑의 요소들은 다 0이어야 한다.\n",
        "\n",
        "> 여기서 2개의 조건을 더 만족하면 그 matrix는 **reduced row echelon form(RREF)**이다\n",
        "  - RREF는 다양한 matrix를 갖는 REF와 달리 유일한 form을 갖는다\n",
        "\n",
        "4. leading entry가 모두 1의 값을 가진다.\n",
        "5. 각각의 leading entry가 포함된 column의 나머지 요소들은 0의 값을 가진다. \n",
        "\n",
        "> **Example**   \n",
        "> **elchlon form**;\n",
        "> $\\begin{bmatrix}\n",
        "2 & 3 & 2 & 1 \\\\\n",
        "0 & 1 & -4 & 8 \\\\\n",
        "0 & 0 & 0 & 5/2\n",
        "\\end{bmatrix}$   \n",
        ">**RREF**;\n",
        ">$\\begin{bmatrix}\n",
        "1 & 0 & 0 & 29 \\\\\n",
        "0 & 1 & 0 & 16 \\\\\n",
        "0 & 0 & 1 & 3\n",
        "\\end{bmatrix}$\n",
        "\n",
        "\n",
        "## **Theorem 1. Uniqueness of the reduced Echelon Form**\n",
        "* 하나의 matrix은 유일하게 존재하는 RREF와 row equivalent하다.\n",
        "\n",
        "## **Pivot Position**     \n",
        "Pivot Position이란 RREF에서 leading entry에 해당하는 요소를 말한다. \n",
        "*Pivot이 포함된 열을 pivot column이라고 한다.\n",
        "\n",
        ">**TIP**   \n",
        ">RREF를 만드는 과정에서 pivot이 아닌것은 free-variable이 된다.\n",
        "\n",
        "## **Theorem 2. Existence and Uniqueness Theorem**\n",
        "* linear system는 augmented matrix의 가장 오른편의 column이 pivot이 아닐 때 consistent하다.\n",
        "    - 즉, linear system의 argumented matrix가\n",
        "$\\begin{bmatrix}\n",
        "0 & \\cdots & 0 & b\n",
        "\\end{bmatrix}$ row가 없다면, consistent하다.\n",
        "\n",
        "\n",
        ">linear system이 consistent한 경우 solution;\n",
        "1. 해가 unique한 경우= free variable이 없는 경우\n",
        "2. 해가 무수히 많은 경우= free variable이 있는 경우\n"
      ]
    },
    {
      "cell_type": "markdown",
      "metadata": {
        "id": "w9W9kOym9ozQ"
      },
      "source": [
        "# 1.3 Vector Equation\n",
        "\n",
        "one column으로 구성된 matrix는 column vector(=vector)이라 부른다\n",
        "\n",
        "## Vector in ${\\mathbb R}^n$\n",
        "* nx1 column matries\n",
        "* u=$\\begin{bmatrix}\n",
        "u_1 \\\\\n",
        "u_2 \\\\\n",
        "\\vdots \\\\\n",
        "u_n \\\\\n",
        "\\end{bmatrix}$ 으로 표현\n",
        "* vector의 entry가 모두 0일 때, zero vector(denoted by 0)라 부른다\n",
        "\n",
        "## Linear Combination\n",
        "\n",
        "주어진 vector $v_1, v_2, \\cdots, v_p$, 주어진 scalar $c_1, c_2, \\cdots, c_p$에 대하여; $ y = c_1v_1+ \\cdots + c_pv_p$이 주어지면,\n",
        "* vector y은 $v_1, v_2, \\cdots, v_p$와 weight값인 $c_1, c_2, \\cdots, c_p$의 linear combination이다\n",
        "\n",
        "> **linear combination DEFINITION**   \n",
        "> $v_1, v_2, \\cdots, v_p$ in ${\\mathbb R}^n$인 경우, $v_1, v_2, \\cdots, v_p$의 linear combination set을 Span{$v_1, v_2, \\cdots, v_p$}로 표현한다\n",
        ">* Span{$v_1, v_2, \\cdots, v_p$}를 $v_1, v_2, \\cdots, v_p$에 의해 spanned(generated)된 ${\\mathbb R}^n$의 subset이라 한다\n",
        "\n",
        "--------------"
      ]
    },
    {
      "cell_type": "markdown",
      "metadata": {
        "id": "DaOB2knri42f"
      },
      "source": [
        "# 1.4 The Matrix Equation $Ax=b$\n",
        "Linear algebra에서 fundamental idea는 vector의 linear combination을 matrix와 vector의 product로 보는 것이다.\n",
        "\n",
        "> **DEFINITION**   \n",
        "> A가 an $m\\times n$ matrix(with coulmn $ {\\mathbf a}_1, \\cdots , {\\mathbf a}_n$, and if x is in ${\\mathbb R}^m$)라면,\n",
        ">* A와 x의 product(denoted by Ax)는 x의 corresponging entry를 가중치로 사용하여 A의 column을  linear combination한 것:\n",
        ">   - $Ax=\\begin{bmatrix}\n",
        "{\\mathbf a}_1 & {\\mathbf a}_2 & \\cdots & {\\mathbf a}_n\n",
        "\\end{bmatrix}\\begin{bmatrix}\n",
        "x_1\\\\\n",
        "\\vdots\\\\\n",
        "x_n\n",
        "\\end{bmatrix}= {x_1}{a_1}+ {x_2}{a_2}+ \\cdots+{x_n}{a_n}\n",
        "$\n",
        "\n",
        ">**NOTE**  \n",
        "> A의 column 수가 x의 entries 수와 동일한 경우에만 $Ax$가 정의 \n",
        "\n",
        "## **Theorem 3**\n",
        "\n",
        "A가 $m \\times n$(with columns ${\\mathbf a}_1,.....,{\\mathbf a}_n$), 그리고 $b$ in ${\\mathbb R}^m$이라면:\n",
        "* matrix equation는 $Ax=b$\n",
        "* vector equation; \n",
        "  - $${x_1}{\\mathbf a}_1 + {x_2}{\\mathbf a}_2 + \\cdots + {x_n}{\\mathbf a}_n = b$$\n",
        "* system of linear equations(*augmented* matrix);\n",
        "$$\\begin{bmatrix}\n",
        "{\\mathbf a}_1 & {\\mathbf a}_2 & \\cdots & {\\mathbf a}_n & b\n",
        "\\end{bmatrix}$$\n",
        "\n",
        "> **Existence of solutions**   \n",
        "> $Ax=b$는 $b$가 $A$ column의 linear combination일 때만 consistent하다\n",
        "\n",
        "\n",
        "\n"
      ]
    },
    {
      "cell_type": "markdown",
      "metadata": {
        "id": "A3zN-LJylbnP"
      },
      "source": [
        "\n",
        "\n",
        "## **Theorem 4**\n",
        "*A*가 $m \\times n$ matrix 인 경우,\n",
        "* 아래의 statements는 모두 이론상 equivalent한 얘기다.\n",
        "* coefficient matrix인 *A*에 대해, statements들은 모두 True거나 False다\n",
        "    1. for each $b$ in ${\\mathbb R}^m$, the equation $Ax=b$ has a solution\n",
        "    2. Each $b$ in ${\\mathbb R}^m$ is a linear combination of the columns of *A*\n",
        "    3. The columns of *A* span ${\\mathbb R}^m$\n",
        "    4. *A* has a pivot position in every row\n",
        "\n",
        ">**Proof**    \n",
        "> statement (a), (d)의 관계를 살펴보자    \n",
        ">[$A$ $b$]를 row reduction하여 $A$의 echelon form인 $U$와 ${\\mathbb R}^m$ 안의 d로 나타낼 수 있다 : [$U$ $d$]\n",
        ">* (d)가 true인 경우   \n",
        ">    $U$의 각 row는 pivot position을 갖고, augmented column($d$)는 pivot을 갖지 못한다\n",
        ">    - 따라서, $Ax=b$는 어떤한 b에도 solution을 갖는다-> (a)가 성립한다\n",
        ">* (d)가 False인 경우   \n",
        ">  $U$의 마지막 row는 all zero가 되며, 따라서 [$U$ $d$]는 inconsistent system이다\n",
        ">    - row operation은 역으로도 가능하기 때문에, Ax=b또한 inconsistent다 -> (a)는 성립하지 못한다 "
      ]
    },
    {
      "cell_type": "markdown",
      "metadata": {
        "id": "GvCdSJbxlnBU"
      },
      "source": [
        "## Indentity Matrix\n",
        "대각선 상에 1이 있고, 다른 곳에 0이 있는 matrix은 'Identity Matrix'로 불리고 $I$로 표기된다\n",
        "* ex) \\begin{bmatrix}\n",
        "1& 0& 0\\\\\n",
        "0& 1& 0\\\\\n",
        "0& 0& 1\n",
        "\\end{bmatrix}\n",
        "\n",
        "## Properties of the Matrix-Vector Product Ax \n",
        "### **Theorem 5**\n",
        "*A*가 $m \\times n$일 때, $u$와 $v$ ${\\mathbb R}^m$의 vector, c는 scalar이다:\n",
        "1. $A(u+v)=Au+Av$\n",
        "2. $A(cu)=c(Au)$\n",
        "\n",
        "----------------------"
      ]
    },
    {
      "cell_type": "markdown",
      "metadata": {
        "id": "6CNGEWV8QTYG"
      },
      "source": [
        "#1.5 Solution Set of Linear System\n",
        "\n",
        "## Homogeneous Linear System\n",
        "linear equation이 Ax=0라면, **homogeneous**하다고 말할 수 있다.   \n",
        "(A는 $m \\times n$ matrix이며 0은 ${\\mathbb R}^m$의 zero vector이다)\n",
        "* $Ax=0$ 은 항상 적어도 하나의 solution을 갖는다;\n",
        "  - **trivial solution**: $x=0$\n",
        "*  $Ax=0$에서, 주의해야하는 것은 **nontrivial solution** 여부이다\n",
        "  - **nontrivial solution**: $Ax=0$을 만족시키는 nonzero vector x가 solution인 경우\n",
        "  - equtaion이 적어도 하나의 free variable을 가지면 homogeneou equation Ax=0은 nontrivial하다 \n",
        "\n",
        "## Parametric Vector Form\n",
        ">**Example**   \n",
        ">1)$$10x_1-3x_2-2x_3=0$$\n",
        ">2)$$ x=\\begin{bmatrix}\n",
        "x_1 \\\\\n",
        "x_2 \\\\\n",
        "x_3\n",
        "\\end{bmatrix}=\\begin{bmatrix}\n",
        "0.3{x_2}+0.2{x_3} \\\\\n",
        "x_2 \\\\\n",
        "x_3\n",
        "\\end{bmatrix}$=\\begin{bmatrix}\n",
        "0.3{x_2} \\\\\n",
        "x_2 \\\\\n",
        "0\n",
        "\\end{bmatrix}+\\begin{bmatrix}\n",
        "0.2{x_3} \\\\\n",
        "0 \\\\\n",
        "x_3\n",
        "\\end{bmatrix}={x_2}{ \\begin{bmatrix}\n",
        "0.3 \\\\\n",
        "1 \\\\\n",
        "0\n",
        "\\end{bmatrix}}+{x_3}{\\begin{bmatrix}\n",
        "0.2 \\\\\n",
        "0 \\\\\n",
        "1 \n",
        "\\end{bmatrix}}$$\n",
        "\n",
        "* equation (2)가 parametric vector equation form이다  \n",
        "    - example) $x= {x_2}u+{x_3}v$ -> parmetric vector) **$x=su+tv$**      (s,t in ${\\mathbb R}^m$\n",
        "* 단일 $x=tv$로 이뤄진 equation solution을 포함해 free variable을 parameter로 갖는 vector solution set은 **parametric vector form**이다\n",
        "\n",
        "## Solutions of Nonhomogeneous Systems\n",
        "equation $Ax=b$에서는 solution set이 예2와 같은 형식으로 표현된다;\n",
        ">**Example2**   \n",
        ">$$x=\\begin{bmatrix}\n",
        "x_1 \\\\\n",
        "x_2 \\\\\n",
        "x_3\n",
        "\\end{bmatrix}=\\begin{bmatrix}\n",
        "-1+0.2{x_3} \\\\\n",
        "2 \\\\\n",
        "x_3\n",
        "\\end{bmatrix}$=\\begin{bmatrix}\n",
        "-1 \\\\\n",
        "2 \\\\\n",
        "0\n",
        "\\end{bmatrix}+\\begin{bmatrix}\n",
        "0.2{x_3} \\\\\n",
        "0 \\\\\n",
        "x_3\n",
        "\\end{bmatrix}={ \\begin{bmatrix}\n",
        "-1 \\\\\n",
        "2 \\\\\n",
        "0\n",
        "\\end{bmatrix}}+{x_3}{\\begin{bmatrix}\n",
        "0.2 \\\\\n",
        "0 \\\\\n",
        "1 \n",
        "\\end{bmatrix}}$$\n",
        "> nonhomogeneous solution은 homogeneous system에 상응하는 임의의 vector 조합에 하나의 vector가 더해진 form이다\n",
        "\n",
        "* equation '$x=p+tv$' form으로 표현($p$는 scalar vector)\n",
        "* homogeneous $Ax=0$의 solution $x=tv$에 $p$를 add \n",
        "    - **따라서 vector p는 $Ax=b$의 solution 중에 particular한 하나의 solution이다**\n",
        "* geometrically, $v$ vector가 p만큼 'translation'했다고 해석할 수 있다\n",
        "\n",
        "## **Theorem 6**\n",
        "equation $Ax=b$가 $b$에 대해 consistent 하며,$p$가 solution이라고 가정하면,\n",
        "* $Ax=b$의 solution set은 $w=p+v_h$의 all vector set이다\n",
        "   - 이때, $v_h$는 homogeneous equation $Ax=0$의 solution 중 아무거나이다\n",
        "> solution set은 $Ax=0$에 particular solution인 p에 대해 translation하여 얻을 수 있다\n",
        "\n",
        "## Writing a Solution Set (of a Consistent System) in Parametric Vector Form\n",
        "1. Row reduce the augmented matrix to reduced echelon form, RREF.\n",
        "2. 각 basic variable을 free variables로 표현\n",
        "3. 각 free variable에 상응하는 typical vector solution으로 2표현식을 나눠 적는다\n",
        "4. free variables을 parameters로 갖도록, x를 vector의 linear combination으로 표현\n",
        "\n",
        "----------------------"
      ]
    },
    {
      "cell_type": "markdown",
      "metadata": {
        "id": "fLXR_HAGRIGD"
      },
      "source": [
        "# 1.7 Linear Independence\n",
        "\n",
        ">**DEFNITION**   \n",
        "> ${\\mathbb R}^m$에서의 vector indexed set $\\begin{bmatrix}\n",
        "v_1 & \\cdots & v_n \n",
        "\\end{bmatrix}$에대해; \n",
        ">* ${x_1}{v_1}+{x_2}{v_2}+\\cdots +{x_n}{v_n}=0$ equation에서 trivial solution을 가질 시 **linearly independent**하다 \n",
        ">* ${c_1}{v_1}+{c_2}{v_2}+\\cdots +{c_n}{v_n}=0$에 대해 weight인 $ c_1, \\cdots , c_n $가 not all zero일 땐 **linearly dependent**하다 \n",
        "\n",
        "## Linear Independence of Matrix Columns\n",
        "vector set 대신 matrix $A=\\begin{bmatrix}{\\mathbf a}_1 & {\\mathbf a}_2 & \\cdots & {\\mathbf a}_n\\end{bmatrix}$에 대해;\n",
        "1. A의 각 column은 $Ax=0$에서 nontrivial solution을 가질 때 linear dependent하다\n",
        "2. matrix의 column은 $Ax=0$에서 오직 trivial solution가질 때만, linearly independent하다\n",
        "\n",
        "## Sets of One or Two Vectors\n",
        "vector v에 대해\n",
        "1. >* vector equation ${x_1}v=0$일 때 v가 zero vector가 아니면 trivial solution만을 가지므로, linear indepent하다\n",
        ">* v가 zero vector 일 경우, ${x_1}0=0$은 무수히 많은 nontrivial solution을 가지므로 linearly dependent하다\n",
        "\n",
        "2. 두개의 vectors $v_1$과 $v_2$에 대해, 한 vector가 다른 vector를 multiple한 것과 동일 할때, linearly dependent하다\n",
        "  - The set is linearly independent if and only if neither of the vectors is a multiple of the other.\n",
        "\n",
        "## Set of two or more Vector\n",
        "###**Theorem 7. Characterization of Linearly Dependent Sets**\n",
        "1. $S=\\begin{Bmatrix}v_1&\\cdots&v_p\\end{Bmatrix}$ 에서 vector 중 하나라도 S의 나머지 vector linear combination과 일치한다면,\n",
        "  -  two 또는 more vectors가 linearly dependent하다\n",
        "2. S가 linearly dependent하고 $v_1\\neq 0$라면((1)의 역),\n",
        "    - 어떤 $v_j$(with j>1)는 preceding vectors( $v_1, .... ,v_{j-1} $)의 linear combination이다"
      ]
    },
    {
      "cell_type": "markdown",
      "metadata": {
        "id": "xXv35cmWTEkB"
      },
      "source": [
        "# **Theorem 8**\n",
        "* 만약 matrix set의 vectors가 vector entries보다 많다면,그 set은 linearly dependent하다\n",
        "  - example) $$\\begin{bmatrix}* & * & * & * & * \\\\ * & * & * & * & * \\end{bmatrix}$$\n",
        "  p(column)=5, n(row)=2\n",
        "* *p*>*n*인 $\\begin{Bmatrix}v_1&\\cdots&v_p\\end{Bmatrix}$ in ${\\mathbb R}^m$ set은 linearly dependent하다"
      ]
    },
    {
      "cell_type": "markdown",
      "metadata": {
        "id": "7f8aledaZHRx"
      },
      "source": [
        "# **Theorem 9**\n",
        "* set $S=\\begin{Bmatrix}\n",
        "v_1&\\cdots&v_p\\end{Bmatrix}$ in ${\\mathbb R}^m$에서 zero vector를 포함하고 있다면 set은 linearly dependent하다\n",
        "\n",
        "------------------------"
      ]
    },
    {
      "cell_type": "markdown",
      "metadata": {
        "id": "yzvNqh44Nt6K"
      },
      "source": [
        "# 1.8 Linear Transformation\n",
        "\n",
        "Transformation(=function=mapping) T는:\n",
        "${\\mathbb R}^n $의 각 x vector를 ${\\mathbb R}^m $의 vector T(x)로 할당한다\n",
        "* ${\\mathbb R}^n $은 T의 domain이라 부른다\n",
        "* ${\\mathbb R}^m $은 T의 codomain이다\n",
        "* T(x)는 x에 대한 image임\n",
        "* range: 모든 image(T(x))를 합침\n",
        "\n",
        ">range $\\subset$ codomain\n",
        "\n",
        "> **Matrix Transformation**   \n",
        "> A가 mxn이며, 각 x에 대해 T(x)를 Ax에 대응할 경우, $x \\to Ax$ transformation의 특성;\n",
        "> 1. $A(u+v)=Au+Av$\n",
        "> 2. $A(cu)=cAu$\n",
        "> * u,v 는 ${\\mathbb R}^n $에 위치하고, c는 scalar이다\n",
        "> * transformation이 linear하기 위해서는 superposition principle를 만족해야 함\n",
        "\n",
        "> **Linear Transformation**   \n",
        "> T는 아래의 조건에서 Linear하다\n",
        "> 1. $T(u+v)=T(u)+T(v)$\n",
        "> 2. $T(cu)=cT(u)$\n",
        "> u,v 는 ${\\mathbb R}^n $에 위치하고, c는 scalar이다\n",
        "\n",
        "-------------------"
      ]
    },
    {
      "cell_type": "markdown",
      "metadata": {
        "id": "sFCMFJz0QoOO"
      },
      "source": [
        "# 1.9 THE MATRIX OF A LINEAR TRANSFORMATION\n",
        "$ {\\mathbb R}^n$에서 ${\\mathbb R}^m$의 linear transformation은 $x \\to Ax$ matrix transformation이다. \n",
        "  * T의 주요 특성은 A 특성과 연관된다"
      ]
    },
    {
      "cell_type": "markdown",
      "metadata": {
        "id": "Gkh2rcyGZaJr"
      },
      "source": [
        "## **Theorem 10**\n",
        "$T: {\\mathbb R}^n \\to {\\mathbb R}^m$ linear transformation일 경우\n",
        "* matrix A는 T의 stnadard matrix로 unique하다\n",
        "* $A=\\begin{bmatrix}\n",
        "    T(e_1) & \\cdots & T(e_n)\\end{bmatrix}$"
      ]
    },
    {
      "cell_type": "markdown",
      "metadata": {
        "id": "GPi77gAZbEaP"
      },
      "source": [
        "# **Theorem 11**\n",
        "Let $T: {\\mathbb R}^n \\to {\\mathbb R}^m$ be a linear transformation.\n",
        "* T가 one-to-one이라면 equation $T(x)=0$  trivial solution만을 갖는다\n",
        "  - one-to-one;    \n",
        "  $T: {\\mathbb R}^n \\to {\\mathbb R}^m$에서 T(x)=b의 b가 가장 위의 x image인 경우 "
      ]
    },
    {
      "cell_type": "markdown",
      "metadata": {
        "id": "Jk_rGGPfbaJA"
      },
      "source": [
        "# **Theorem 12**\n",
        "$T: {\\mathbb R}^n \\to {\\mathbb R}^m$에서 A 가 T의 standard matrix일 때;\n",
        "1. columns of A가 span ${\\mathbb R}^m$라면,   \n",
        "$T$는 ${\\mathbb R}^n$ onto ${\\mathbb R}^m$로 mapping한다\n",
        "  - onto: range와 codomain이 같음\n",
        "2.  columns of *A*가 linearly independent할 때, $T$ is one-to-one이다 \n",
        "\n",
        "> one-to-one이면서 onto면 역행렬을 가짐\n"
      ]
    },
    {
      "cell_type": "code",
      "metadata": {
        "id": "_cuf8dIoccA9"
      },
      "source": [
        ""
      ],
      "execution_count": null,
      "outputs": []
    }
  ]
}