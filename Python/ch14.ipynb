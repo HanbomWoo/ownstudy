{
 "cells": [
  {
   "cell_type": "markdown",
   "metadata": {},
   "source": [
    "# Chapter14. Object-Oriented Programming"
   ]
  },
  {
   "cell_type": "markdown",
   "metadata": {},
   "source": [
    "problem domain: keep tarck of booksin a bookstore\n",
    "* book의 record에는 tiltle, authors, publisher,   \n",
    "    price, ISBN(International Standard Book Number, a unique identifie)이 포함된다"
   ]
  },
  {
   "cell_type": "code",
   "execution_count": 1,
   "metadata": {},
   "outputs": [
    {
     "ename": "NameError",
     "evalue": "name 'Book' is not defined",
     "output_type": "error",
     "traceback": [
      "\u001b[1;31m---------------------------------------------------------------------------\u001b[0m",
      "\u001b[1;31mNameError\u001b[0m                                 Traceback (most recent call last)",
      "\u001b[1;32m<ipython-input-1-b2a02fd6cf24>\u001b[0m in \u001b[0;36m<module>\u001b[1;34m\u001b[0m\n\u001b[1;32m----> 1\u001b[1;33m python_book = Book(\n\u001b[0m\u001b[0;32m      2\u001b[0m     \u001b[1;34m'Practical Programming'\u001b[0m\u001b[1;33m,\u001b[0m\u001b[1;33m\u001b[0m\u001b[1;33m\u001b[0m\u001b[0m\n\u001b[0;32m      3\u001b[0m     \u001b[1;33m[\u001b[0m\u001b[1;34m'Campbell'\u001b[0m\u001b[1;33m,\u001b[0m \u001b[1;34m'Gries'\u001b[0m\u001b[1;33m,\u001b[0m \u001b[1;34m'Montojo'\u001b[0m\u001b[1;33m]\u001b[0m\u001b[1;33m,\u001b[0m\u001b[1;33m\u001b[0m\u001b[1;33m\u001b[0m\u001b[0m\n\u001b[0;32m      4\u001b[0m     \u001b[1;34m'Pragmatic Bookshelf'\u001b[0m\u001b[1;33m,\u001b[0m\u001b[1;33m\u001b[0m\u001b[1;33m\u001b[0m\u001b[0m\n\u001b[0;32m      5\u001b[0m     \u001b[1;34m'978-1-6805026-8-8'\u001b[0m\u001b[1;33m,\u001b[0m\u001b[1;33m\u001b[0m\u001b[1;33m\u001b[0m\u001b[0m\n",
      "\u001b[1;31mNameError\u001b[0m: name 'Book' is not defined"
     ]
    }
   ],
   "source": [
    "python_book = Book(\n",
    "    'Practical Programming',\n",
    "    ['Campbell', 'Gries', 'Montojo'],\n",
    "    'Pragmatic Bookshelf',\n",
    "    '978-1-6805026-8-8',\n",
    "    25.0)\n",
    "survival_book = Book(\n",
    "    \"New Programmer's Survival Manual\",\n",
    "    ['Carter'],\n",
    "    'Pragmatic Bookshelf',\n",
    "    '978-1-93435-681-4',\n",
    "    19.0)\n"
   ]
  },
  {
   "cell_type": "markdown",
   "metadata": {},
   "source": [
    "두개의 book Object를 생성하고 있다\n",
    "1. Practical Programming\n",
    "2. New Programmer's Survival Manual"
   ]
  },
  {
   "cell_type": "code",
   "execution_count": 2,
   "metadata": {},
   "outputs": [
    {
     "ename": "NameError",
     "evalue": "name 'python_book' is not defined",
     "output_type": "error",
     "traceback": [
      "\u001b[1;31m---------------------------------------------------------------------------\u001b[0m",
      "\u001b[1;31mNameError\u001b[0m                                 Traceback (most recent call last)",
      "\u001b[1;32m<ipython-input-2-c3773ff0fc3b>\u001b[0m in \u001b[0;36m<module>\u001b[1;34m\u001b[0m\n\u001b[1;32m----> 1\u001b[1;33m \u001b[0mprint\u001b[0m\u001b[1;33m(\u001b[0m\u001b[1;34m'{0} was written by {1} authors and costs ${2}'\u001b[0m\u001b[1;33m.\u001b[0m\u001b[0mformat\u001b[0m\u001b[1;33m(\u001b[0m\u001b[0mpython_book\u001b[0m\u001b[1;33m.\u001b[0m\u001b[0mtitle\u001b[0m\u001b[1;33m,\u001b[0m \u001b[0mpython_book\u001b[0m\u001b[1;33m.\u001b[0m\u001b[0mnum_authors\u001b[0m\u001b[1;33m(\u001b[0m\u001b[1;33m)\u001b[0m\u001b[1;33m,\u001b[0m \u001b[0mpython_book\u001b[0m\u001b[1;33m.\u001b[0m\u001b[0mprice\u001b[0m\u001b[1;33m)\u001b[0m\u001b[1;33m)\u001b[0m\u001b[1;33m\u001b[0m\u001b[1;33m\u001b[0m\u001b[0m\n\u001b[0m\u001b[0;32m      2\u001b[0m \u001b[0mprint\u001b[0m\u001b[1;33m(\u001b[0m\u001b[1;34m'{0} was written by {1} authors and costs ${2}'\u001b[0m\u001b[1;33m.\u001b[0m\u001b[0mformat\u001b[0m\u001b[1;33m(\u001b[0m\u001b[0msurvival_book\u001b[0m\u001b[1;33m.\u001b[0m\u001b[0mtitle\u001b[0m\u001b[1;33m,\u001b[0m \u001b[0msurvival_book\u001b[0m\u001b[1;33m.\u001b[0m\u001b[0mnum_authors\u001b[0m\u001b[1;33m(\u001b[0m\u001b[1;33m)\u001b[0m\u001b[1;33m,\u001b[0m \u001b[0msurvival_book\u001b[0m\u001b[1;33m.\u001b[0m\u001b[0mprice\u001b[0m\u001b[1;33m)\u001b[0m\u001b[1;33m)\u001b[0m\u001b[1;33m\u001b[0m\u001b[1;33m\u001b[0m\u001b[0m\n",
      "\u001b[1;31mNameError\u001b[0m: name 'python_book' is not defined"
     ]
    }
   ],
   "source": [
    "print('{0} was written by {1} authors and costs ${2}'.format(python_book.title, python_book.num_authors(), python_book.price))\n",
    "print('{0} was written by {1} authors and costs ${2}'.format(survival_book.title, survival_book.num_authors(), survival_book.price))"
   ]
  },
  {
   "cell_type": "markdown",
   "metadata": {},
   "source": [
    "this code doesn’t run   \n",
    "\n",
    "**then why?**\n",
    "* Python doesn’t have a Book type\n",
    "\n",
    "-> 이번 chapter의 목표: Learn how to define and use your own types."
   ]
  },
  {
   "cell_type": "markdown",
   "metadata": {},
   "source": [
    "## 1. Understanding a Problem Domain\n",
    "\n",
    "The idea of a `Book` type comes from the problem domain: keeping track of books in a bookstore.\n",
    "\n",
    "* Object-oriented programming은 new type을 지정&사용하는 것에 중점을 둔다\n",
    "* class는 python이 나타내는 type이다"
   ]
  },
  {
   "cell_type": "markdown",
   "metadata": {},
   "source": [
    "> **Object-oriented programming 단계**   \n",
    ">1. Understanding the problem domain. \n",
    "    - This step is crucial\n",
    "    - program을 짜기 전 고객이 원하는 것이 무엇인지 program의 목표가 뭔지를 알아야 한다    \n",
    ">\n",
    ">2. Figuring out what type(s) you might want\n",
    "    - 처음 problem domain의 설명을 읽고, main nouns와 noun phrases를 찾는 것이 좋다\n",
    ">\n",
    ">3. Figuring out what features you want your type to have\n",
    "    - code로 구현\n",
    "        + ex) \n",
    "        ```\n",
    "        python_book = Book('Practical Programming',\n",
    "        ['Campbell', 'Gries', 'Montojo'],'Pragmatic Bookshelf',\n",
    "        '978-1-6805026-8-8', 25.0)\n",
    "        ```\n",
    "    - function design recipe과 유사\n",
    ">\n",
    ">4. Writing a class that represents this type\n",
    "    - 위에 구현한 code를 class를 사용해 methods로 표현해 type을 정의한다\n",
    ">\n",
    ">5. Testing your code\n",
    "    - 다양한 method들이 잘 상호작용할지에 대해 검토하는 것이 중요합니다."
   ]
  },
  {
   "cell_type": "code",
   "execution_count": null,
   "metadata": {},
   "outputs": [],
   "source": []
  },
  {
   "cell_type": "markdown",
   "metadata": {},
   "source": [
    "## 2. Function isinstance, Class object, and Class Book"
   ]
  },
  {
   "cell_type": "markdown",
   "metadata": {},
   "source": [
    "`isinstance` function: 이 함수는 object가 class의 instance인지 출력한다\n",
    "* object가 특정 type을 가지는 지 확인"
   ]
  },
  {
   "cell_type": "code",
   "execution_count": 2,
   "metadata": {},
   "outputs": [
    {
     "data": {
      "text/plain": [
       "True"
      ]
     },
     "execution_count": 2,
     "metadata": {},
     "output_type": "execute_result"
    }
   ],
   "source": [
    "isinstance('abc',str)"
   ]
  },
  {
   "cell_type": "code",
   "execution_count": 3,
   "metadata": {},
   "outputs": [
    {
     "data": {
      "text/plain": [
       "False"
      ]
     },
     "execution_count": 3,
     "metadata": {},
     "output_type": "execute_result"
    }
   ],
   "source": [
    "isinstance(55,str)"
   ]
  },
  {
   "cell_type": "markdown",
   "metadata": {},
   "source": [
    "python은 `object`라는 class(type)을 갖는다"
   ]
  },
  {
   "cell_type": "code",
   "execution_count": 3,
   "metadata": {
    "collapsed": true,
    "jupyter": {
     "outputs_hidden": true
    }
   },
   "outputs": [
    {
     "name": "stdout",
     "output_type": "stream",
     "text": [
      "Help on class object in module builtins:\n",
      "\n",
      "class object\n",
      " |  The base class of the class hierarchy.\n",
      " |  \n",
      " |  When called, it accepts no arguments and returns a new featureless\n",
      " |  instance that has no instance attributes and cannot be given any.\n",
      " |  \n",
      " |  Built-in subclasses:\n",
      " |      async_generator\n",
      " |      BaseException\n",
      " |      builtin_function_or_method\n",
      " |      bytearray\n",
      " |      ... and 114 other subclasses\n",
      " |  \n",
      " |  Methods defined here:\n",
      " |  \n",
      " |  __delattr__(self, name, /)\n",
      " |      Implement delattr(self, name).\n",
      " |  \n",
      " |  __dir__(self, /)\n",
      " |      Default dir() implementation.\n",
      " |  \n",
      " |  __eq__(self, value, /)\n",
      " |      Return self==value.\n",
      " |  \n",
      " |  __format__(self, format_spec, /)\n",
      " |      Default object formatter.\n",
      " |  \n",
      " |  __ge__(self, value, /)\n",
      " |      Return self>=value.\n",
      " |  \n",
      " |  __getattribute__(self, name, /)\n",
      " |      Return getattr(self, name).\n",
      " |  \n",
      " |  __gt__(self, value, /)\n",
      " |      Return self>value.\n",
      " |  \n",
      " |  __hash__(self, /)\n",
      " |      Return hash(self).\n",
      " |  \n",
      " |  __init__(self, /, *args, **kwargs)\n",
      " |      Initialize self.  See help(type(self)) for accurate signature.\n",
      " |  \n",
      " |  __le__(self, value, /)\n",
      " |      Return self<=value.\n",
      " |  \n",
      " |  __lt__(self, value, /)\n",
      " |      Return self<value.\n",
      " |  \n",
      " |  __ne__(self, value, /)\n",
      " |      Return self!=value.\n",
      " |  \n",
      " |  __reduce__(self, /)\n",
      " |      Helper for pickle.\n",
      " |  \n",
      " |  __reduce_ex__(self, protocol, /)\n",
      " |      Helper for pickle.\n",
      " |  \n",
      " |  __repr__(self, /)\n",
      " |      Return repr(self).\n",
      " |  \n",
      " |  __setattr__(self, name, value, /)\n",
      " |      Implement setattr(self, name, value).\n",
      " |  \n",
      " |  __sizeof__(self, /)\n",
      " |      Size of object in memory, in bytes.\n",
      " |  \n",
      " |  __str__(self, /)\n",
      " |      Return str(self).\n",
      " |  \n",
      " |  ----------------------------------------------------------------------\n",
      " |  Class methods defined here:\n",
      " |  \n",
      " |  __init_subclass__(...) from builtins.type\n",
      " |      This method is called when a class is subclassed.\n",
      " |      \n",
      " |      The default implementation does nothing. It may be\n",
      " |      overridden to extend subclasses.\n",
      " |  \n",
      " |  __subclasshook__(...) from builtins.type\n",
      " |      Abstract classes can override this to customize issubclass().\n",
      " |      \n",
      " |      This is invoked early on by abc.ABCMeta.__subclasscheck__().\n",
      " |      It should return True, False or NotImplemented.  If it returns\n",
      " |      NotImplemented, the normal algorithm is used.  Otherwise, it\n",
      " |      overrides the normal algorithm (and the outcome is cached).\n",
      " |  \n",
      " |  ----------------------------------------------------------------------\n",
      " |  Static methods defined here:\n",
      " |  \n",
      " |  __new__(*args, **kwargs) from builtins.type\n",
      " |      Create and return a new object.  See help(type) for accurate signature.\n",
      " |  \n",
      " |  ----------------------------------------------------------------------\n",
      " |  Data and other attributes defined here:\n",
      " |  \n",
      " |  __class__ = <class 'type'>\n",
      " |      type(object_or_name, bases, dict)\n",
      " |      type(object) -> the object's type\n",
      " |      type(name, bases, dict) -> a new type\n",
      "\n"
     ]
    }
   ],
   "source": [
    "help(object)"
   ]
  },
  {
   "cell_type": "markdown",
   "metadata": {},
   "source": [
    "'abc'와 55.2는 `object` class에 속한다"
   ]
  },
  {
   "cell_type": "code",
   "execution_count": 4,
   "metadata": {},
   "outputs": [
    {
     "data": {
      "text/plain": [
       "True"
      ]
     },
     "execution_count": 4,
     "metadata": {},
     "output_type": "execute_result"
    }
   ],
   "source": [
    "isinstance('abc',object)"
   ]
  },
  {
   "cell_type": "code",
   "execution_count": 5,
   "metadata": {},
   "outputs": [
    {
     "data": {
      "text/plain": [
       "True"
      ]
     },
     "execution_count": 5,
     "metadata": {},
     "output_type": "execute_result"
    }
   ],
   "source": [
    "isinstance(55.2, object)"
   ]
  },
  {
   "cell_type": "markdown",
   "metadata": {},
   "source": [
    "str, max와 같은 class와 function도 `object`의 instance이다"
   ]
  },
  {
   "cell_type": "code",
   "execution_count": 5,
   "metadata": {},
   "outputs": [
    {
     "data": {
      "text/plain": [
       "True"
      ]
     },
     "execution_count": 5,
     "metadata": {},
     "output_type": "execute_result"
    }
   ],
   "source": [
    "isinstance(str, object)"
   ]
  },
  {
   "cell_type": "code",
   "execution_count": 6,
   "metadata": {},
   "outputs": [
    {
     "data": {
      "text/plain": [
       "True"
      ]
     },
     "execution_count": 6,
     "metadata": {},
     "output_type": "execute_result"
    }
   ],
   "source": [
    "isinstance(max, object)"
   ]
  },
  {
   "cell_type": "code",
   "execution_count": 6,
   "metadata": {},
   "outputs": [
    {
     "data": {
      "text/plain": [
       "True"
      ]
     },
     "execution_count": 6,
     "metadata": {},
     "output_type": "execute_result"
    }
   ],
   "source": [
    "a=7\n",
    "isinstance(a, int)"
   ]
  },
  {
   "cell_type": "markdown",
   "metadata": {},
   "source": [
    "**every class in Python is derived from class `object`, and so every instance of every class is an object.**\n",
    "\n",
    "* `object`는 str class의 *superclass*이고 `str` class는 object의 *subclass*라 말할 수 있다.\n",
    "* superclass의 정보는 `help` documentation에서 볼 수 있다"
   ]
  },
  {
   "cell_type": "code",
   "execution_count": 8,
   "metadata": {
    "collapsed": true,
    "jupyter": {
     "outputs_hidden": true
    }
   },
   "outputs": [
    {
     "name": "stdout",
     "output_type": "stream",
     "text": [
      "Help on class int in module builtins:\n",
      "\n",
      "class int(object)\n",
      " |  int([x]) -> integer\n",
      " |  int(x, base=10) -> integer\n",
      " |  \n",
      " |  Convert a number or string to an integer, or return 0 if no arguments\n",
      " |  are given.  If x is a number, return x.__int__().  For floating point\n",
      " |  numbers, this truncates towards zero.\n",
      " |  \n",
      " |  If x is not a number or if base is given, then x must be a string,\n",
      " |  bytes, or bytearray instance representing an integer literal in the\n",
      " |  given base.  The literal can be preceded by '+' or '-' and be surrounded\n",
      " |  by whitespace.  The base defaults to 10.  Valid bases are 0 and 2-36.\n",
      " |  Base 0 means to interpret the base from the string as an integer literal.\n",
      " |  >>> int('0b100', base=0)\n",
      " |  4\n",
      " |  \n",
      " |  Built-in subclasses:\n",
      " |      bool\n",
      " |  \n",
      " |  Methods defined here:\n",
      " |  \n",
      " |  __abs__(self, /)\n",
      " |      abs(self)\n",
      " |  \n",
      " |  __add__(self, value, /)\n",
      " |      Return self+value.\n",
      " |  \n",
      " |  __and__(self, value, /)\n",
      " |      Return self&value.\n",
      " |  \n",
      " |  __bool__(self, /)\n",
      " |      self != 0\n",
      " |  \n",
      " |  __ceil__(...)\n",
      " |      Ceiling of an Integral returns itself.\n",
      " |  \n",
      " |  __divmod__(self, value, /)\n",
      " |      Return divmod(self, value).\n",
      " |  \n",
      " |  __eq__(self, value, /)\n",
      " |      Return self==value.\n",
      " |  \n",
      " |  __float__(self, /)\n",
      " |      float(self)\n",
      " |  \n",
      " |  __floor__(...)\n",
      " |      Flooring an Integral returns itself.\n",
      " |  \n",
      " |  __floordiv__(self, value, /)\n",
      " |      Return self//value.\n",
      " |  \n",
      " |  __format__(self, format_spec, /)\n",
      " |      Default object formatter.\n",
      " |  \n",
      " |  __ge__(self, value, /)\n",
      " |      Return self>=value.\n",
      " |  \n",
      " |  __getattribute__(self, name, /)\n",
      " |      Return getattr(self, name).\n",
      " |  \n",
      " |  __getnewargs__(self, /)\n",
      " |  \n",
      " |  __gt__(self, value, /)\n",
      " |      Return self>value.\n",
      " |  \n",
      " |  __hash__(self, /)\n",
      " |      Return hash(self).\n",
      " |  \n",
      " |  __index__(self, /)\n",
      " |      Return self converted to an integer, if self is suitable for use as an index into a list.\n",
      " |  \n",
      " |  __int__(self, /)\n",
      " |      int(self)\n",
      " |  \n",
      " |  __invert__(self, /)\n",
      " |      ~self\n",
      " |  \n",
      " |  __le__(self, value, /)\n",
      " |      Return self<=value.\n",
      " |  \n",
      " |  __lshift__(self, value, /)\n",
      " |      Return self<<value.\n",
      " |  \n",
      " |  __lt__(self, value, /)\n",
      " |      Return self<value.\n",
      " |  \n",
      " |  __mod__(self, value, /)\n",
      " |      Return self%value.\n",
      " |  \n",
      " |  __mul__(self, value, /)\n",
      " |      Return self*value.\n",
      " |  \n",
      " |  __ne__(self, value, /)\n",
      " |      Return self!=value.\n",
      " |  \n",
      " |  __neg__(self, /)\n",
      " |      -self\n",
      " |  \n",
      " |  __or__(self, value, /)\n",
      " |      Return self|value.\n",
      " |  \n",
      " |  __pos__(self, /)\n",
      " |      +self\n",
      " |  \n",
      " |  __pow__(self, value, mod=None, /)\n",
      " |      Return pow(self, value, mod).\n",
      " |  \n",
      " |  __radd__(self, value, /)\n",
      " |      Return value+self.\n",
      " |  \n",
      " |  __rand__(self, value, /)\n",
      " |      Return value&self.\n",
      " |  \n",
      " |  __rdivmod__(self, value, /)\n",
      " |      Return divmod(value, self).\n",
      " |  \n",
      " |  __repr__(self, /)\n",
      " |      Return repr(self).\n",
      " |  \n",
      " |  __rfloordiv__(self, value, /)\n",
      " |      Return value//self.\n",
      " |  \n",
      " |  __rlshift__(self, value, /)\n",
      " |      Return value<<self.\n",
      " |  \n",
      " |  __rmod__(self, value, /)\n",
      " |      Return value%self.\n",
      " |  \n",
      " |  __rmul__(self, value, /)\n",
      " |      Return value*self.\n",
      " |  \n",
      " |  __ror__(self, value, /)\n",
      " |      Return value|self.\n",
      " |  \n",
      " |  __round__(...)\n",
      " |      Rounding an Integral returns itself.\n",
      " |      Rounding with an ndigits argument also returns an integer.\n",
      " |  \n",
      " |  __rpow__(self, value, mod=None, /)\n",
      " |      Return pow(value, self, mod).\n",
      " |  \n",
      " |  __rrshift__(self, value, /)\n",
      " |      Return value>>self.\n",
      " |  \n",
      " |  __rshift__(self, value, /)\n",
      " |      Return self>>value.\n",
      " |  \n",
      " |  __rsub__(self, value, /)\n",
      " |      Return value-self.\n",
      " |  \n",
      " |  __rtruediv__(self, value, /)\n",
      " |      Return value/self.\n",
      " |  \n",
      " |  __rxor__(self, value, /)\n",
      " |      Return value^self.\n",
      " |  \n",
      " |  __sizeof__(self, /)\n",
      " |      Returns size in memory, in bytes.\n",
      " |  \n",
      " |  __sub__(self, value, /)\n",
      " |      Return self-value.\n",
      " |  \n",
      " |  __truediv__(self, value, /)\n",
      " |      Return self/value.\n",
      " |  \n",
      " |  __trunc__(...)\n",
      " |      Truncating an Integral returns itself.\n",
      " |  \n",
      " |  __xor__(self, value, /)\n",
      " |      Return self^value.\n",
      " |  \n",
      " |  as_integer_ratio(self, /)\n",
      " |      Return integer ratio.\n",
      " |      \n",
      " |      Return a pair of integers, whose ratio is exactly equal to the original int\n",
      " |      and with a positive denominator.\n",
      " |      \n",
      " |      >>> (10).as_integer_ratio()\n",
      " |      (10, 1)\n",
      " |      >>> (-10).as_integer_ratio()\n",
      " |      (-10, 1)\n",
      " |      >>> (0).as_integer_ratio()\n",
      " |      (0, 1)\n",
      " |  \n",
      " |  bit_length(self, /)\n",
      " |      Number of bits necessary to represent self in binary.\n",
      " |      \n",
      " |      >>> bin(37)\n",
      " |      '0b100101'\n",
      " |      >>> (37).bit_length()\n",
      " |      6\n",
      " |  \n",
      " |  conjugate(...)\n",
      " |      Returns self, the complex conjugate of any int.\n",
      " |  \n",
      " |  to_bytes(self, /, length, byteorder, *, signed=False)\n",
      " |      Return an array of bytes representing an integer.\n",
      " |      \n",
      " |      length\n",
      " |        Length of bytes object to use.  An OverflowError is raised if the\n",
      " |        integer is not representable with the given number of bytes.\n",
      " |      byteorder\n",
      " |        The byte order used to represent the integer.  If byteorder is 'big',\n",
      " |        the most significant byte is at the beginning of the byte array.  If\n",
      " |        byteorder is 'little', the most significant byte is at the end of the\n",
      " |        byte array.  To request the native byte order of the host system, use\n",
      " |        `sys.byteorder' as the byte order value.\n",
      " |      signed\n",
      " |        Determines whether two's complement is used to represent the integer.\n",
      " |        If signed is False and a negative integer is given, an OverflowError\n",
      " |        is raised.\n",
      " |  \n",
      " |  ----------------------------------------------------------------------\n",
      " |  Class methods defined here:\n",
      " |  \n",
      " |  from_bytes(bytes, byteorder, *, signed=False) from builtins.type\n",
      " |      Return the integer represented by the given array of bytes.\n",
      " |      \n",
      " |      bytes\n",
      " |        Holds the array of bytes to convert.  The argument must either\n",
      " |        support the buffer protocol or be an iterable object producing bytes.\n",
      " |        Bytes and bytearray are examples of built-in objects that support the\n",
      " |        buffer protocol.\n",
      " |      byteorder\n",
      " |        The byte order used to represent the integer.  If byteorder is 'big',\n",
      " |        the most significant byte is at the beginning of the byte array.  If\n",
      " |        byteorder is 'little', the most significant byte is at the end of the\n",
      " |        byte array.  To request the native byte order of the host system, use\n",
      " |        `sys.byteorder' as the byte order value.\n",
      " |      signed\n",
      " |        Indicates whether two's complement is used to represent the integer.\n",
      " |  \n",
      " |  ----------------------------------------------------------------------\n",
      " |  Static methods defined here:\n",
      " |  \n",
      " |  __new__(*args, **kwargs) from builtins.type\n",
      " |      Create and return a new object.  See help(type) for accurate signature.\n",
      " |  \n",
      " |  ----------------------------------------------------------------------\n",
      " |  Data descriptors defined here:\n",
      " |  \n",
      " |  denominator\n",
      " |      the denominator of a rational number in lowest terms\n",
      " |  \n",
      " |  imag\n",
      " |      the imaginary part of a complex number\n",
      " |  \n",
      " |  numerator\n",
      " |      the numerator of a rational number in lowest terms\n",
      " |  \n",
      " |  real\n",
      " |      the real part of a complex number\n",
      "\n"
     ]
    }
   ],
   "source": [
    "help(int)"
   ]
  },
  {
   "cell_type": "code",
   "execution_count": 6,
   "metadata": {
    "collapsed": true,
    "jupyter": {
     "outputs_hidden": true
    }
   },
   "outputs": [
    {
     "name": "stdout",
     "output_type": "stream",
     "text": [
      "Help on class SyntaxError in module builtins:\n",
      "\n",
      "class SyntaxError(Exception)\n",
      " |  Invalid syntax.\n",
      " |  \n",
      " |  Method resolution order:\n",
      " |      SyntaxError\n",
      " |      Exception\n",
      " |      BaseException\n",
      " |      object\n",
      " |  \n",
      " |  Built-in subclasses:\n",
      " |      IndentationError\n",
      " |  \n",
      " |  Methods defined here:\n",
      " |  \n",
      " |  __init__(self, /, *args, **kwargs)\n",
      " |      Initialize self.  See help(type(self)) for accurate signature.\n",
      " |  \n",
      " |  __str__(self, /)\n",
      " |      Return str(self).\n",
      " |  \n",
      " |  ----------------------------------------------------------------------\n",
      " |  Data descriptors defined here:\n",
      " |  \n",
      " |  filename\n",
      " |      exception filename\n",
      " |  \n",
      " |  lineno\n",
      " |      exception lineno\n",
      " |  \n",
      " |  msg\n",
      " |      exception msg\n",
      " |  \n",
      " |  offset\n",
      " |      exception offset\n",
      " |  \n",
      " |  print_file_and_line\n",
      " |      exception print_file_and_line\n",
      " |  \n",
      " |  text\n",
      " |      exception text\n",
      " |  \n",
      " |  ----------------------------------------------------------------------\n",
      " |  Static methods inherited from Exception:\n",
      " |  \n",
      " |  __new__(*args, **kwargs) from builtins.type\n",
      " |      Create and return a new object.  See help(type) for accurate signature.\n",
      " |  \n",
      " |  ----------------------------------------------------------------------\n",
      " |  Methods inherited from BaseException:\n",
      " |  \n",
      " |  __delattr__(self, name, /)\n",
      " |      Implement delattr(self, name).\n",
      " |  \n",
      " |  __getattribute__(self, name, /)\n",
      " |      Return getattr(self, name).\n",
      " |  \n",
      " |  __reduce__(...)\n",
      " |      Helper for pickle.\n",
      " |  \n",
      " |  __repr__(self, /)\n",
      " |      Return repr(self).\n",
      " |  \n",
      " |  __setattr__(self, name, value, /)\n",
      " |      Implement setattr(self, name, value).\n",
      " |  \n",
      " |  __setstate__(...)\n",
      " |  \n",
      " |  with_traceback(...)\n",
      " |      Exception.with_traceback(tb) --\n",
      " |      set self.__traceback__ to tb and return self.\n",
      " |  \n",
      " |  ----------------------------------------------------------------------\n",
      " |  Data descriptors inherited from BaseException:\n",
      " |  \n",
      " |  __cause__\n",
      " |      exception cause\n",
      " |  \n",
      " |  __context__\n",
      " |      exception context\n",
      " |  \n",
      " |  __dict__\n",
      " |  \n",
      " |  __suppress_context__\n",
      " |  \n",
      " |  __traceback__\n",
      " |  \n",
      " |  args\n",
      "\n"
     ]
    }
   ],
   "source": [
    "# SyntaxError is a subclass of Exception\n",
    "help(SyntaxError)"
   ]
  },
  {
   "cell_type": "markdown",
   "metadata": {},
   "source": [
    "object의 arrtributes들"
   ]
  },
  {
   "cell_type": "code",
   "execution_count": 11,
   "metadata": {},
   "outputs": [
    {
     "data": {
      "text/plain": [
       "['__class__',\n",
       " '__delattr__',\n",
       " '__dir__',\n",
       " '__doc__',\n",
       " '__eq__',\n",
       " '__format__',\n",
       " '__ge__',\n",
       " '__getattribute__',\n",
       " '__gt__',\n",
       " '__hash__',\n",
       " '__init__',\n",
       " '__init_subclass__',\n",
       " '__le__',\n",
       " '__lt__',\n",
       " '__ne__',\n",
       " '__new__',\n",
       " '__reduce__',\n",
       " '__reduce_ex__',\n",
       " '__repr__',\n",
       " '__setattr__',\n",
       " '__sizeof__',\n",
       " '__str__',\n",
       " '__subclasshook__']"
      ]
     },
     "execution_count": 11,
     "metadata": {},
     "output_type": "execute_result"
    }
   ],
   "source": [
    "dir(object)"
   ]
  },
  {
   "cell_type": "markdown",
   "metadata": {},
   "source": [
    ">**NOTE**   \n",
    ">사용자가 정의하는 class를 포함하여 python의 모든 class는 위의 object attribute의 속성들을 자동으로 갖고 있다\n",
    ">* 일반적으로 모든 sub class는 superclass의 기능을 가진다"
   ]
  },
  {
   "cell_type": "code",
   "execution_count": 9,
   "metadata": {},
   "outputs": [],
   "source": [
    "class Book:\n",
    "    \"\"\"Information about a book.\"\"\""
   ]
  },
  {
   "cell_type": "code",
   "execution_count": 10,
   "metadata": {},
   "outputs": [
    {
     "data": {
      "text/plain": [
       "type"
      ]
     },
     "execution_count": 10,
     "metadata": {},
     "output_type": "execute_result"
    }
   ],
   "source": [
    "type(str)"
   ]
  },
  {
   "cell_type": "code",
   "execution_count": 11,
   "metadata": {},
   "outputs": [
    {
     "data": {
      "text/plain": [
       "type"
      ]
     },
     "execution_count": 11,
     "metadata": {},
     "output_type": "execute_result"
    }
   ],
   "source": [
    "type(Book)"
   ]
  },
  {
   "cell_type": "markdown",
   "metadata": {},
   "source": [
    "`def`가 python에 새로운 function을 정의한다고 말하듯이, `class`는 우리가 새로운 type을 정의한다는 것을 말한다"
   ]
  },
  {
   "cell_type": "code",
   "execution_count": 46,
   "metadata": {
    "collapsed": true,
    "jupyter": {
     "outputs_hidden": true
    }
   },
   "outputs": [
    {
     "data": {
      "text/plain": [
       "['__class__',\n",
       " '__delattr__',\n",
       " '__dict__',\n",
       " '__dir__',\n",
       " '__doc__',\n",
       " '__eq__',\n",
       " '__format__',\n",
       " '__ge__',\n",
       " '__getattribute__',\n",
       " '__gt__',\n",
       " '__hash__',\n",
       " '__init__',\n",
       " '__init_subclass__',\n",
       " '__le__',\n",
       " '__lt__',\n",
       " '__module__',\n",
       " '__ne__',\n",
       " '__new__',\n",
       " '__reduce__',\n",
       " '__reduce_ex__',\n",
       " '__repr__',\n",
       " '__setattr__',\n",
       " '__sizeof__',\n",
       " '__str__',\n",
       " '__subclasshook__',\n",
       " '__weakref__']"
      ]
     },
     "execution_count": 46,
     "metadata": {},
     "output_type": "execute_result"
    }
   ],
   "source": [
    "dir(Book)"
   ]
  },
  {
   "cell_type": "code",
   "execution_count": 47,
   "metadata": {},
   "outputs": [
    {
     "data": {
      "text/plain": [
       "{'__dict__', '__module__', '__weakref__'}"
      ]
     },
     "execution_count": 47,
     "metadata": {},
     "output_type": "execute_result"
    }
   ],
   "source": [
    "set(dir(Book))-set(dir(object))"
   ]
  },
  {
   "cell_type": "markdown",
   "metadata": {},
   "source": [
    "Book class에는 3개의 추가 attribution이 있다\n",
    "* class object 중 subclass라면 위3가지 attribution은 자동 포함한다"
   ]
  },
  {
   "cell_type": "code",
   "execution_count": 12,
   "metadata": {},
   "outputs": [
    {
     "name": "stdout",
     "output_type": "stream",
     "text": [
      "Help on class Book in module __main__:\n",
      "\n",
      "class Book(builtins.object)\n",
      " |  Information about a book.\n",
      " |  \n",
      " |  Data descriptors defined here:\n",
      " |  \n",
      " |  __dict__\n",
      " |      dictionary for instance variables (if defined)\n",
      " |  \n",
      " |  __weakref__\n",
      " |      list of weak references to the object (if defined)\n",
      "\n"
     ]
    }
   ],
   "source": [
    "help(Book)"
   ]
  },
  {
   "cell_type": "code",
   "execution_count": 22,
   "metadata": {},
   "outputs": [],
   "source": [
    "ruby_book=Book() #Book 개체 생성 후 ruby_book에 할당\n",
    "ruby_book.title='Programming Ruby' # Book 개체 내 제목 변수 생성\n",
    "ruby_book.authors=['Thomas','Fowler','Hunt'] #Book 개체 내 작가 변수 생성"
   ]
  },
  {
   "cell_type": "markdown",
   "metadata": {},
   "source": [
    "title과 authors는 class의 instance 내 변수이므로 `instance variable`이라 칭한다\n",
    "\n",
    "> ruby_book이라는 Book 개체를 통해 이러한 instance 변수에 접근할 수 있다"
   ]
  },
  {
   "cell_type": "code",
   "execution_count": 23,
   "metadata": {},
   "outputs": [
    {
     "data": {
      "text/plain": [
       "'Programming Ruby'"
      ]
     },
     "execution_count": 23,
     "metadata": {},
     "output_type": "execute_result"
    }
   ],
   "source": [
    "ruby_book.title"
   ]
  },
  {
   "cell_type": "code",
   "execution_count": 24,
   "metadata": {},
   "outputs": [
    {
     "data": {
      "text/plain": [
       "['Thomas', 'Fowler', 'Hunt']"
      ]
     },
     "execution_count": 24,
     "metadata": {},
     "output_type": "execute_result"
    }
   ],
   "source": [
    "ruby_book.authors"
   ]
  },
  {
   "attachments": {
    "5d9a4b4b-06ba-4cd2-b4e8-7b70bb8c8d24.png": {
     "image/png": "[encoded data removed]"
    }
   },
   "cell_type": "markdown",
   "metadata": {},
   "source": [
    "![image.png](attachment:5d9a4b4b-06ba-4cd2-b4e8-7b70bb8c8d24.png)"
   ]
  },
  {
   "cell_type": "markdown",
   "metadata": {},
   "source": [
    "ruby_book.title이라 치면 python 내에서 어떤 과정이 일어날까?\n",
    "1. python은 variable `ruby_book`을 찾는다\n",
    "2. dot을 읽고서 Book object의 memory location으로 간다\n",
    "4. 그리고 그 안에서 title instance를 찾는다"
   ]
  },
  {
   "cell_type": "code",
   "execution_count": 15,
   "metadata": {},
   "outputs": [
    {
     "name": "stdout",
     "output_type": "stream",
     "text": [
      "Help on Book in module __main__ object:\n",
      "\n",
      "class Book(builtins.object)\n",
      " |  Information about a book.\n",
      " |  \n",
      " |  Data descriptors defined here:\n",
      " |  \n",
      " |  __dict__\n",
      " |      dictionary for instance variables (if defined)\n",
      " |  \n",
      " |  __weakref__\n",
      " |      list of weak references to the object (if defined)\n",
      "\n"
     ]
    }
   ],
   "source": [
    "help(ruby_book)"
   ]
  },
  {
   "cell_type": "markdown",
   "metadata": {},
   "source": [
    "## 3. Writing a Method in  Class Book"
   ]
  },
  {
   "cell_type": "markdown",
   "metadata": {},
   "source": [
    ">**Using Method**\n",
    ">1. ` str.capitalize('browning')`\n",
    ">2. `'browning.capitalize()'`\n"
   ]
  },
  {
   "cell_type": "code",
   "execution_count": 17,
   "metadata": {},
   "outputs": [],
   "source": [
    "#:\\Users\\whbom\\projectspace\\ownstudy\\Python\\boook.py\n",
    "class Book:\n",
    "    \"\"\"Information about a book.\"\"\"\n",
    "    \n",
    "    def num_authors(self) -> int:\n",
    "        \"\"\"Return the number of authors oof this book\"\"\"\n",
    "        \n",
    "        return len(self.authors)"
   ]
  },
  {
   "cell_type": "code",
   "execution_count": 18,
   "metadata": {},
   "outputs": [
    {
     "name": "stdout",
     "output_type": "stream",
     "text": [
      "Help on class Book in module __main__:\n",
      "\n",
      "class Book(builtins.object)\n",
      " |  Information about a book.\n",
      " |  \n",
      " |  Methods defined here:\n",
      " |  \n",
      " |  num_authors(self) -> int\n",
      " |      Return the number of authors oof this book\n",
      " |  \n",
      " |  ----------------------------------------------------------------------\n",
      " |  Data descriptors defined here:\n",
      " |  \n",
      " |  __dict__\n",
      " |      dictionary for instance variables (if defined)\n",
      " |  \n",
      " |  __weakref__\n",
      " |      list of weak references to the object (if defined)\n",
      "\n"
     ]
    }
   ],
   "source": [
    "help(Book)"
   ]
  },
  {
   "cell_type": "markdown",
   "metadata": {},
   "source": [
    "class 내 def는 book을 refer하는 self라는 매개변수가 있다는 점을 제외하면 function과 같다"
   ]
  },
  {
   "cell_type": "code",
   "execution_count": 19,
   "metadata": {},
   "outputs": [
    {
     "data": {
      "text/plain": [
       "3"
      ]
     },
     "execution_count": 19,
     "metadata": {},
     "output_type": "execute_result"
    }
   ],
   "source": [
    "Book.num_authors(ruby_book)"
   ]
  },
  {
   "cell_type": "code",
   "execution_count": 25,
   "metadata": {},
   "outputs": [
    {
     "data": {
      "text/plain": [
       "3"
      ]
     },
     "execution_count": 25,
     "metadata": {},
     "output_type": "execute_result"
    }
   ],
   "source": [
    "ruby_book.num_authors()"
   ]
  },
  {
   "cell_type": "code",
   "execution_count": 4,
   "metadata": {},
   "outputs": [],
   "source": [
    "from ch14 import book"
   ]
  },
  {
   "cell_type": "code",
   "execution_count": 5,
   "metadata": {},
   "outputs": [],
   "source": [
    "ruby_book2=book.Book()"
   ]
  },
  {
   "cell_type": "code",
   "execution_count": 6,
   "metadata": {},
   "outputs": [],
   "source": [
    "ruby_book2.title='Programming'\n",
    "ruby_book2.authors=['Thomas', 'Fowler', 'Hunt']"
   ]
  },
  {
   "cell_type": "markdown",
   "metadata": {},
   "source": [
    "**call on class of method 2 way**"
   ]
  },
  {
   "cell_type": "code",
   "execution_count": 7,
   "metadata": {},
   "outputs": [
    {
     "data": {
      "text/plain": [
       "3"
      ]
     },
     "execution_count": 7,
     "metadata": {},
     "output_type": "execute_result"
    }
   ],
   "source": [
    "book.Book.num_authors(ruby_book2)"
   ]
  },
  {
   "cell_type": "markdown",
   "metadata": {},
   "source": [
    "* look in the imported module\n",
    "* In that module is class Book.\n",
    "* Inside Book is method num_authors. \n",
    "* The argument to the call, ruby_book, is passed to parameter self."
   ]
  },
  {
   "cell_type": "code",
   "execution_count": 8,
   "metadata": {},
   "outputs": [
    {
     "data": {
      "text/plain": [
       "3"
      ]
     },
     "execution_count": 8,
     "metadata": {},
     "output_type": "execute_result"
    }
   ],
   "source": [
    "ruby_book2.num_authors()"
   ]
  },
  {
   "cell_type": "code",
   "execution_count": 9,
   "metadata": {
    "collapsed": true,
    "jupyter": {
     "outputs_hidden": true
    }
   },
   "outputs": [
    {
     "name": "stdout",
     "output_type": "stream",
     "text": [
      "Help on Book in module ch14.book object:\n",
      "\n",
      "class Book(builtins.object)\n",
      " |  Information about a book.\n",
      " |  \n",
      " |  Methods defined here:\n",
      " |  \n",
      " |  num_authors(self) -> int\n",
      " |      Return the number of authors of this book.\n",
      " |  \n",
      " |  ----------------------------------------------------------------------\n",
      " |  Data descriptors defined here:\n",
      " |  \n",
      " |  __dict__\n",
      " |      dictionary for instance variables (if defined)\n",
      " |  \n",
      " |  __weakref__\n",
      " |      list of weak references to the object (if defined)\n",
      "\n"
     ]
    }
   ],
   "source": [
    "help(ruby_book2)"
   ]
  },
  {
   "cell_type": "markdown",
   "metadata": {},
   "source": [
    "* it lists the object first; object를 먼저 나열 \n",
    "\n",
    "Thinking of method calls this way can really help develop an object-oriented mentality.\n"
   ]
  },
  {
   "cell_type": "markdown",
   "metadata": {},
   "source": [
    "### `__init__`\n",
    "\n",
    "ruby_book 예제에서는 Book개체가 생성된 후 제목과 저서 값을 할당\n",
    "* special meathod\n",
    "* 문제발생! 이러한 접근 class가 확장 가능하지 않다\n",
    "    +  즉, book을 만들때 마다 추가 문장을 입력해야함\n",
    "* 따라서, 대신  __init__ 방법을 사용해 class를 작성해볼 것임\n",
    "    + doctest와 마찬가지로 debugging 작업 가능\n",
    "    + class 속 매개변수이므로 first parameter의 type을 지정하지 않아도 된다\n",
    "    + When Python executes this module, it creates a class object and assigns it to variable class(Book)\n",
    "    + method init은 Book object가 생성될 때마다 호출\n",
    "        -  Its purpose is to initialize the new object; *constructor method*\n"
   ]
  },
  {
   "cell_type": "code",
   "execution_count": null,
   "metadata": {},
   "outputs": [],
   "source": [
    "from typing import List, Any\n",
    "class Book:\n",
    "    \"\"\"Information about a book, including title, list of authors,\n",
    "    publisher, ISBN, and price.\n",
    "    \"\"\"\n",
    "    def __init__(self, title: str, authors: List[str], publisher: str,\n",
    "                 isbn: str, price: float) -> None:\n",
    "        \"\"\"Create a new book entitled title, written by the people in authors,\n",
    "        published by publisher, with ISBN isbn and costing price dollars.\n",
    "        >>> python_book = Book( \\\n",
    "        'Practical Programming', \\\n",
    "        ['Campbell', 'Gries', 'Montojo'], \\\n",
    "        'Pragmatic Bookshelf', \\\n",
    "        '978-1-6805026-8-8', \\\n",
    "        25.0)\n",
    "        >>> python_book.title\n",
    "        'Practical Programming'\n",
    "        >>> python_book.authors\n",
    "        ['Campbell', 'Gries', 'Montojo']\n",
    "        >>> python_book.publisher\n",
    "        'Pragmatic Bookshelf'\n",
    "        >>> python_book.ISBN\n",
    "        '978-1-6805026-8-8'\n",
    "        >>> python_book.price\n",
    "        25.0\n",
    "        \"\"\"\n",
    "        self.title = title\n",
    "        # Copy the authors list in case the caller modifies that list later.\n",
    "        self.authors = authors[:]\n",
    "        self.publisher = publisher\n",
    "        self.ISBN = isbn\n",
    "        self.price = price\n",
    "\n",
    "    def num_authors(self) -> int:\n",
    "        \"\"\"Return the number of authors of this book.\n",
    "        >>> python_book = Book( \\\n",
    "        'Practical Programming', \\\n",
    "        ['Campbell', 'Gries', 'Montojo'], \\\n",
    "        'Pragmatic Bookshelf', \\\n",
    "        '978-1-6805026-8-8', \\\n",
    "        25.0)\n",
    "        >>> python_book.num_authors()\n",
    "        3\n",
    "        \"\"\"\n",
    "        return len(self.authors)"
   ]
  },
  {
   "attachments": {
    "784a7d6b-f73e-492a-8d66-ca24f6050855.png": {
     "image/png": "[encoded data removed]"
    }
   },
   "cell_type": "markdown",
   "metadata": {},
   "source": [
    "![image.png](attachment:784a7d6b-f73e-492a-8d66-ca24f6050855.png)"
   ]
  },
  {
   "cell_type": "markdown",
   "metadata": {},
   "source": [
    "python 내 __init__ object 생성 수행 단계;\n",
    "1. 특정 memory address에 object 생성\n",
    "2. method init을 통해 새 object를 `self` parameter에 전달함\n",
    "3. 그 object의 memory 주소 생성"
   ]
  },
  {
   "cell_type": "code",
   "execution_count": 11,
   "metadata": {},
   "outputs": [],
   "source": [
    "from ch14 import book2"
   ]
  },
  {
   "cell_type": "code",
   "execution_count": 22,
   "metadata": {
    "collapsed": true,
    "jupyter": {
     "outputs_hidden": true
    }
   },
   "outputs": [
    {
     "name": "stdout",
     "output_type": "stream",
     "text": [
      "Help on module book2:\n",
      "\n",
      "NAME\n",
      "    book2\n",
      "\n",
      "CLASSES\n",
      "    builtins.object\n",
      "        Book\n",
      "    \n",
      "    class Book(builtins.object)\n",
      "     |  Book(title: str, authors: List[str], publisher: str, isbn: str, price: float) -> None\n",
      "     |  \n",
      "     |  Information about a book, including title, list of authors,\n",
      "     |  publisher, ISBN, and price.\n",
      "     |  \n",
      "     |  Methods defined here:\n",
      "     |  \n",
      "     |  __init__(self, title: str, authors: List[str], publisher: str, isbn: str, price: float) -> None\n",
      "     |      Create a new book entitled title, written by the people in authors,\n",
      "     |      published by publisher, with ISBN isbn and costing price dollars.\n",
      "     |      >>> python_book = Book(         'Practical Programming',         ['Campbell', 'Gries', 'Montojo'],         'Pragmatic Bookshelf',         '978-1-6805026-8-8',         25.0)\n",
      "     |      >>> python_book.title\n",
      "     |      'Practical Programming'\n",
      "     |      >>> python_book.authors\n",
      "     |      ['Campbell', 'Gries', 'Montojo']\n",
      "     |      >>> python_book.publisher\n",
      "     |      'Pragmatic Bookshelf'\n",
      "     |      >>> python_book.ISBN\n",
      "     |      '978-1-6805026-8-8'\n",
      "     |      >>> python_book.price\n",
      "     |      25.0\n",
      "     |  \n",
      "     |  num_authors(self) -> int\n",
      "     |      Return the number of authors of this book.\n",
      "     |      >>> python_book = Book(         'Practical Programming',         ['Campbell', 'Gries', 'Montojo'],         'Pragmatic Bookshelf',         '978-1-6805026-8-8',         25.0)\n",
      "     |      >>> python_book.num_authors()\n",
      "     |      3\n",
      "     |  \n",
      "     |  ----------------------------------------------------------------------\n",
      "     |  Data descriptors defined here:\n",
      "     |  \n",
      "     |  __dict__\n",
      "     |      dictionary for instance variables (if defined)\n",
      "     |  \n",
      "     |  __weakref__\n",
      "     |      list of weak references to the object (if defined)\n",
      "\n",
      "DATA\n",
      "    Any = typing.Any\n",
      "    List = typing.List\n",
      "\n",
      "FILE\n",
      "    c:\\users\\whbom\\projectspace\\ownstudy\\python\\book2.py\n",
      "\n",
      "\n"
     ]
    }
   ],
   "source": [
    "help(book2)"
   ]
  },
  {
   "cell_type": "code",
   "execution_count": 12,
   "metadata": {},
   "outputs": [],
   "source": [
    "python_book=book2.Book('Practical Programming',['Campbell', 'Gries', 'Montojo'],\n",
    "                       'Pragmatic Bookshelf','978-1-6805026-8-8', 25.0)"
   ]
  },
  {
   "cell_type": "code",
   "execution_count": 15,
   "metadata": {},
   "outputs": [
    {
     "data": {
      "text/plain": [
       "'Practical Programming'"
      ]
     },
     "execution_count": 15,
     "metadata": {},
     "output_type": "execute_result"
    }
   ],
   "source": [
    "python_book.title"
   ]
  },
  {
   "cell_type": "code",
   "execution_count": 16,
   "metadata": {},
   "outputs": [
    {
     "data": {
      "text/plain": [
       "'Pragmatic Bookshelf'"
      ]
     },
     "execution_count": 16,
     "metadata": {},
     "output_type": "execute_result"
    }
   ],
   "source": [
    "python_book.publisher"
   ]
  },
  {
   "cell_type": "markdown",
   "metadata": {},
   "source": [
    "## <What's in an Object?>\n",
    "\n",
    "* method는 class에 속한다\n",
    "* instance variable은 object에 속한다"
   ]
  },
  {
   "cell_type": "code",
   "execution_count": 18,
   "metadata": {},
   "outputs": [
    {
     "ename": "AttributeError",
     "evalue": "type object 'Book' has no attribute 'title'",
     "output_type": "error",
     "traceback": [
      "\u001b[1;31m---------------------------------------------------------------------------\u001b[0m",
      "\u001b[1;31mAttributeError\u001b[0m                            Traceback (most recent call last)",
      "\u001b[1;32m<ipython-input-18-36f9407fc979>\u001b[0m in \u001b[0;36m<module>\u001b[1;34m\u001b[0m\n\u001b[1;32m----> 1\u001b[1;33m \u001b[0mbook2\u001b[0m\u001b[1;33m.\u001b[0m\u001b[0mBook\u001b[0m\u001b[1;33m.\u001b[0m\u001b[0mtitle\u001b[0m\u001b[1;33m\u001b[0m\u001b[1;33m\u001b[0m\u001b[0m\n\u001b[0m",
      "\u001b[1;31mAttributeError\u001b[0m: type object 'Book' has no attribute 'title'"
     ]
    }
   ],
   "source": [
    "book2.Book.title"
   ]
  },
  {
   "cell_type": "markdown",
   "metadata": {},
   "source": [
    "instance variable에 method로 접근하려하면 error가 뜬다   \n",
    "따라서 instance를 통해 variable을 포함하며 Book의 method에 접근할 수 있다"
   ]
  },
  {
   "cell_type": "code",
   "execution_count": 29,
   "metadata": {},
   "outputs": [
    {
     "data": {
      "text/plain": [
       "['__class__',\n",
       " '__delattr__',\n",
       " '__dict__',\n",
       " '__dir__',\n",
       " '__doc__',\n",
       " '__eq__',\n",
       " '__format__',\n",
       " '__ge__',\n",
       " '__getattribute__',\n",
       " '__gt__',\n",
       " '__hash__',\n",
       " '__init__',\n",
       " '__init_subclass__',\n",
       " '__le__',\n",
       " '__lt__',\n",
       " '__module__',\n",
       " '__ne__',\n",
       " '__new__',\n",
       " '__reduce__',\n",
       " '__reduce_ex__',\n",
       " '__repr__',\n",
       " '__setattr__',\n",
       " '__sizeof__',\n",
       " '__str__',\n",
       " '__subclasshook__',\n",
       " '__weakref__',\n",
       " 'num_authors']"
      ]
     },
     "execution_count": 29,
     "metadata": {},
     "output_type": "execute_result"
    }
   ],
   "source": [
    "dir(book2.Book)"
   ]
  },
  {
   "cell_type": "code",
   "execution_count": 19,
   "metadata": {},
   "outputs": [],
   "source": [
    "python_book=book2.Book('Practical Programming',['Campbell', 'Gries', 'Montojo'],\n",
    "                       'Pragmatic Bookshelf','978-1-6805026-8-8', 25.0)"
   ]
  },
  {
   "cell_type": "code",
   "execution_count": 20,
   "metadata": {},
   "outputs": [
    {
     "data": {
      "text/plain": [
       "['ISBN',\n",
       " '__class__',\n",
       " '__delattr__',\n",
       " '__dict__',\n",
       " '__dir__',\n",
       " '__doc__',\n",
       " '__eq__',\n",
       " '__format__',\n",
       " '__ge__',\n",
       " '__getattribute__',\n",
       " '__gt__',\n",
       " '__hash__',\n",
       " '__init__',\n",
       " '__init_subclass__',\n",
       " '__le__',\n",
       " '__lt__',\n",
       " '__module__',\n",
       " '__ne__',\n",
       " '__new__',\n",
       " '__reduce__',\n",
       " '__reduce_ex__',\n",
       " '__repr__',\n",
       " '__setattr__',\n",
       " '__sizeof__',\n",
       " '__str__',\n",
       " '__subclasshook__',\n",
       " '__weakref__',\n",
       " 'authors',\n",
       " 'num_authors',\n",
       " 'price',\n",
       " 'publisher',\n",
       " 'title']"
      ]
     },
     "execution_count": 20,
     "metadata": {},
     "output_type": "execute_result"
    }
   ],
   "source": [
    "dir(python_book)"
   ]
  },
  {
   "cell_type": "code",
   "execution_count": 33,
   "metadata": {},
   "outputs": [
    {
     "data": {
      "text/plain": [
       "{'ISBN', 'authors', 'price', 'publisher', 'title'}"
      ]
     },
     "execution_count": 33,
     "metadata": {},
     "output_type": "execute_result"
    }
   ],
   "source": [
    "set(dir(python_book))-set(dir(book2.Book))\n"
   ]
  },
  {
   "cell_type": "code",
   "execution_count": 21,
   "metadata": {},
   "outputs": [
    {
     "data": {
      "text/plain": [
       "'Practical Programming'"
      ]
     },
     "execution_count": 21,
     "metadata": {},
     "output_type": "execute_result"
    }
   ],
   "source": [
    "python_book.title"
   ]
  },
  {
   "cell_type": "code",
   "execution_count": null,
   "metadata": {},
   "outputs": [],
   "source": []
  },
  {
   "cell_type": "markdown",
   "metadata": {},
   "source": [
    "cf) class variable"
   ]
  },
  {
   "cell_type": "code",
   "execution_count": null,
   "metadata": {},
   "outputs": [],
   "source": []
  },
  {
   "cell_type": "markdown",
   "metadata": {},
   "source": [
    "Notice that ISBN, authors, price, publisher, and title are all available in the object as instance\n",
    "variables in addition to the contents of class Book"
   ]
  },
  {
   "cell_type": "markdown",
   "metadata": {},
   "source": [
    "1. python은 먼저 python_book이 refer하는 object를 찾고 method num_authodrs를 호출"
   ]
  },
  {
   "attachments": {
    "11b110ba-f900-4b66-8c00-9649446707fd.png": {
     "image/png": "[encoded data removed]"
    }
   },
   "cell_type": "markdown",
   "metadata": {},
   "source": [
    "![image.png](attachment:11b110ba-f900-4b66-8c00-9649446707fd.png)"
   ]
  },
  {
   "cell_type": "markdown",
   "metadata": {},
   "source": [
    "\n",
    "2. 명시적 instance가 없으므로 python_book이 refer하는 Book object에만 전달해 해당 object를 self parameter에 할당"
   ]
  },
  {
   "attachments": {
    "e1e2ac9f-96c5-4287-a3bd-cff48f1e3288.png": {
     "image/png": "[encoded data removed]"
    }
   },
   "cell_type": "markdown",
   "metadata": {},
   "source": [
    "![image.png](attachment:e1e2ac9f-96c5-4287-a3bd-cff48f1e3288.png)"
   ]
  },
  {
   "cell_type": "markdown",
   "metadata": {},
   "source": [
    "3. return statement에서는 len(self.authors)을 반환\n",
    "    + authors가 refer하는 object 속 instance variable authors를 찾는다 "
   ]
  },
  {
   "attachments": {
    "32129726-884e-4731-b6f8-42300e5ef60a.png": {
     "image/png": "[encoded data removed]"
    }
   },
   "cell_type": "markdown",
   "metadata": {},
   "source": [
    "![image.png](attachment:32129726-884e-4731-b6f8-42300e5ef60a.png)"
   ]
  },
  {
   "cell_type": "markdown",
   "metadata": {},
   "source": [
    "4. `list`의 길이 return\n",
    "\n",
    "With constructors, methods, and instance variables in hand, we can now create\n",
    "classes that look and work like those that come with Python itself."
   ]
  },
  {
   "cell_type": "code",
   "execution_count": 28,
   "metadata": {},
   "outputs": [
    {
     "data": {
      "text/plain": [
       "3"
      ]
     },
     "execution_count": 28,
     "metadata": {},
     "output_type": "execute_result"
    }
   ],
   "source": [
    "python_book.num_authors() # Book.num_authors(python_book)"
   ]
  },
  {
   "cell_type": "markdown",
   "metadata": {},
   "source": [
    "## 4. Plugging into Python Syntax: More Special Methods"
   ]
  },
  {
   "cell_type": "markdown",
   "metadata": {},
   "source": [
    "123p에서 `+`나 `in`같은 python구문이 method 호출을 작동시킴을 보았다"
   ]
  },
  {
   "cell_type": "code",
   "execution_count": 30,
   "metadata": {},
   "outputs": [
    {
     "data": {
      "text/plain": [
       "'abc123'"
      ]
     },
     "execution_count": 30,
     "metadata": {},
     "output_type": "execute_result"
    }
   ],
   "source": [
    "'abc' + '123' #'abc'.__add__('123')"
   ]
  },
  {
   "cell_type": "code",
   "execution_count": 31,
   "metadata": {},
   "outputs": [
    {
     "data": {
      "text/plain": [
       "'abc123'"
      ]
     },
     "execution_count": 31,
     "metadata": {},
     "output_type": "execute_result"
    }
   ],
   "source": [
    "'abc'.__add__('123')"
   ]
  },
  {
   "cell_type": "code",
   "execution_count": 34,
   "metadata": {},
   "outputs": [
    {
     "name": "stdout",
     "output_type": "stream",
     "text": [
      "Hi\n"
     ]
    }
   ],
   "source": [
    "print(\"Hi\")"
   ]
  },
  {
   "cell_type": "code",
   "execution_count": 36,
   "metadata": {},
   "outputs": [
    {
     "data": {
      "text/plain": [
       "'Hi'"
      ]
     },
     "execution_count": 36,
     "metadata": {},
     "output_type": "execute_result"
    }
   ],
   "source": [
    "'Hi'.__str__()"
   ]
  },
  {
   "cell_type": "code",
   "execution_count": 32,
   "metadata": {},
   "outputs": [],
   "source": [
    "python_book=book2.Book('Practical Programming',['Campbell', 'Gries', 'Montojo'],\n",
    "                       'Pragmatic Bookshelf','978-1-6805026-8-8', 25.0)"
   ]
  },
  {
   "cell_type": "code",
   "execution_count": 37,
   "metadata": {},
   "outputs": [
    {
     "name": "stdout",
     "output_type": "stream",
     "text": [
      "<book2.Book object at 0x000001B3F5E543A0>\n"
     ]
    }
   ],
   "source": [
    "# object가 memory에 있는 위치만 print됨\n",
    "# class에 method __str__에 정의\n",
    "print(python_book)"
   ]
  },
  {
   "cell_type": "code",
   "execution_count": 23,
   "metadata": {},
   "outputs": [
    {
     "name": "stdout",
     "output_type": "stream",
     "text": [
      "Help on built-in function print in module builtins:\n",
      "\n",
      "print(...)\n",
      "    print(value, ..., sep=' ', end='\\n', file=sys.stdout, flush=False)\n",
      "    \n",
      "    Prints the values to a stream, or to sys.stdout by default.\n",
      "    Optional keyword arguments:\n",
      "    file:  a file-like object (stream); defaults to the current sys.stdout.\n",
      "    sep:   string inserted between values, default a space.\n",
      "    end:   string appended after the last value, default a newline.\n",
      "    flush: whether to forcibly flush the stream.\n",
      "\n"
     ]
    }
   ],
   "source": [
    "help(print)"
   ]
  },
  {
   "cell_type": "markdown",
   "metadata": {},
   "source": [
    "위 shell은 object를 문자열로 변환하기 위함"
   ]
  },
  {
   "cell_type": "markdown",
   "metadata": {},
   "source": [
    ">`__str__`   \n",
    ">__str__ is called when an informal, human-readable version\n",
    ">* 특히, called when `print` is used\n",
    ">* `__str__`과 string method인 `format`으로 호출되기도 한다"
   ]
  },
  {
   "cell_type": "code",
   "execution_count": null,
   "metadata": {},
   "outputs": [],
   "source": [
    "def __str__(self) -> str:\n",
    "        \"\"\"Return a human-readable string representation of this Book.\"\"\"\n",
    "        return  \"\"\"Title: {0}\n",
    "        Authors: {1}\n",
    "        Publisher: {2}\n",
    "        ISBN: {3}\n",
    "        Price: ${4}\"\"\".format(self.title, \n",
    "                              ', '.join(self.authors), \n",
    "                              self.publisher, self.ISBN, self.price)"
   ]
  },
  {
   "cell_type": "code",
   "execution_count": 25,
   "metadata": {},
   "outputs": [],
   "source": [
    "from ch14 import book3"
   ]
  },
  {
   "cell_type": "code",
   "execution_count": 26,
   "metadata": {},
   "outputs": [],
   "source": [
    "bom_book=book3.Book('우한봄 자서전',['우', '한', '봄'],\n",
    "                       '봄 출판사','978-1-6805026-8-8', 25.0)"
   ]
  },
  {
   "cell_type": "code",
   "execution_count": 27,
   "metadata": {},
   "outputs": [
    {
     "name": "stdout",
     "output_type": "stream",
     "text": [
      "Title: 우한봄 자서전\n",
      "        Authors: 우, 한, 봄\n",
      "        Publisher: 봄 출판사\n",
      "        ISBN: 978-1-6805026-8-8\n",
      "        Price: $25.0\n"
     ]
    }
   ],
   "source": [
    "print(bom_book)"
   ]
  },
  {
   "cell_type": "markdown",
   "metadata": {},
   "source": [
    ">`__repr__`   \n",
    ">__repr__  is called when unambiguous, but possibly less readable, output is desired\n",
    ">* python shell에서 value of a variable을 요청하면 호출\n",
    ">* it is also called when a collection such as `list` is printed.\n",
    ">* ㅑf we were to evaluate the string, __repr__을 소유한 object 생성"
   ]
  },
  {
   "cell_type": "code",
   "execution_count": 28,
   "metadata": {},
   "outputs": [],
   "source": [
    "a=7"
   ]
  },
  {
   "cell_type": "code",
   "execution_count": 29,
   "metadata": {},
   "outputs": [
    {
     "data": {
      "text/plain": [
       "7"
      ]
     },
     "execution_count": 29,
     "metadata": {},
     "output_type": "execute_result"
    }
   ],
   "source": [
    "a"
   ]
  },
  {
   "cell_type": "markdown",
   "metadata": {},
   "source": [
    "> `__eq__`    \n",
    "> The operator == triggers a call on method `__eq__`\n",
    ">* 이 method는 class 개체에 정의되어 있으므로 클래스 Book는 method를 가지게 된다\n",
    "    + object’s __eq__는 object가 자신과 비교될 때 True 생성\n",
    "        - 즉, 두 object가 동일한 정보를 포함하더라도 object객체가 다르다면 동일하게 간주하지 않음 "
   ]
  },
  {
   "cell_type": "code",
   "execution_count": 31,
   "metadata": {},
   "outputs": [],
   "source": [
    "bom_book1=book3.Book('우한봄 자서전',['우', '한', '봄'],\n",
    "                       '봄 출판사','978-1-6805026-8-8', 25.0)"
   ]
  },
  {
   "cell_type": "code",
   "execution_count": 32,
   "metadata": {},
   "outputs": [],
   "source": [
    "bom_book2=book3.Book('우한봄 자서전',['우', '한', '봄'],\n",
    "                       '봄 출판사','978-1-6805026-8-8', 25.0)"
   ]
  },
  {
   "cell_type": "code",
   "execution_count": 35,
   "metadata": {},
   "outputs": [
    {
     "data": {
      "text/plain": [
       "NotImplemented"
      ]
     },
     "execution_count": 35,
     "metadata": {},
     "output_type": "execute_result"
    }
   ],
   "source": [
    "bom_book1.__eq__(bom_book2) # 접근권한이 없다"
   ]
  },
  {
   "cell_type": "code",
   "execution_count": 51,
   "metadata": {},
   "outputs": [
    {
     "data": {
      "text/plain": [
       "False"
      ]
     },
     "execution_count": 51,
     "metadata": {},
     "output_type": "execute_result"
    }
   ],
   "source": [
    "bom_book1==bom_book2"
   ]
  },
  {
   "cell_type": "code",
   "execution_count": 52,
   "metadata": {},
   "outputs": [
    {
     "data": {
      "text/plain": [
       "True"
      ]
     },
     "execution_count": 52,
     "metadata": {},
     "output_type": "execute_result"
    }
   ],
   "source": [
    "bom_book1==bom_book1"
   ]
  },
  {
   "cell_type": "code",
   "execution_count": 53,
   "metadata": {},
   "outputs": [
    {
     "data": {
      "text/plain": [
       "True"
      ]
     },
     "execution_count": 53,
     "metadata": {},
     "output_type": "execute_result"
    }
   ],
   "source": [
    "bom_book2==bom_book2"
   ]
  },
  {
   "cell_type": "code",
   "execution_count": null,
   "metadata": {},
   "outputs": [],
   "source": [
    "def __eq__(self, other: Any) -> bool:\n",
    "    \"\"\"Return True iff other is a book, and this book and other have\n",
    "    the same ISBN.\n",
    "    >>> python_book = Book( \\\n",
    "        'Practical Programming', \\\n",
    "        ['Campbell', 'Gries', 'Montojo'], \\\n",
    "        'Pragmatic Bookshelf', \\\n",
    "        '978-1-6805026-8-8', \\\n",
    "        25.0)\n",
    "    >>> python_book_discounted = Book( \\\n",
    "        'Practical Programming', \\\n",
    "        ['Campbell', 'Gries', 'Montojo'], \\\n",
    "        'Pragmatic Bookshelf', \\\n",
    "        '978-1-6805026-8-8', \\\n",
    "        5.0)\n",
    "    >>> python_book == python_book_discounted\n",
    "    True\n",
    "    >>> python_book == ['Not', 'a', 'book']\n",
    "    False\n",
    "    \"\"\"\n",
    "    return isinstance(other, Book) and self.ISBN == other.ISBN\n",
    "\n"
   ]
  },
  {
   "cell_type": "code",
   "execution_count": 41,
   "metadata": {},
   "outputs": [],
   "source": [
    "import book4"
   ]
  },
  {
   "cell_type": "code",
   "execution_count": 42,
   "metadata": {},
   "outputs": [],
   "source": [
    "bom_book1=book4.Book('우한봄 자서전',['우', '한', '봄'],\n",
    "                       '봄 출판사','978-1-6805026-8-8', 25.0)"
   ]
  },
  {
   "cell_type": "code",
   "execution_count": 57,
   "metadata": {},
   "outputs": [],
   "source": [
    "bom_book2=book4.Book('우한봄 자서전',['우', '한', '봄'],\n",
    "                       '봄 출판사','978-1-6805026-8-8', 25.0)"
   ]
  },
  {
   "cell_type": "code",
   "execution_count": 43,
   "metadata": {},
   "outputs": [],
   "source": [
    "survival_book = book4.Book(\"New Programmer's Survival Manual\", ['Carter'],\n",
    "                           'Pragmatic Bookshelf', '978-1-93435-681-4', 25.0)\n"
   ]
  },
  {
   "cell_type": "code",
   "execution_count": 59,
   "metadata": {},
   "outputs": [
    {
     "data": {
      "text/plain": [
       "True"
      ]
     },
     "execution_count": 59,
     "metadata": {},
     "output_type": "execute_result"
    }
   ],
   "source": [
    "bom_book1==bom_book2"
   ]
  },
  {
   "cell_type": "code",
   "execution_count": 44,
   "metadata": {},
   "outputs": [
    {
     "data": {
      "text/plain": [
       "False"
      ]
     },
     "execution_count": 44,
     "metadata": {},
     "output_type": "execute_result"
    }
   ],
   "source": [
    "bom_book1==survival_book"
   ]
  },
  {
   "cell_type": "code",
   "execution_count": 62,
   "metadata": {},
   "outputs": [
    {
     "data": {
      "text/plain": [
       "False"
      ]
     },
     "execution_count": 62,
     "metadata": {},
     "output_type": "execute_result"
    }
   ],
   "source": [
    "bom_book1 == ['Not', 'a', 'book']"
   ]
  },
  {
   "cell_type": "markdown",
   "metadata": {},
   "source": [
    "### lookup rules for a method call; obj.method()\n",
    "1. 현재 object class를 찾는다. 거기에 우리가 쓸 method name이 있다면 그냥 그걸 써라\n",
    "2. 찾지 못했다면, method를 찾을 때까지 superclass를 찾아보는 과정을 반복해라"
   ]
  },
  {
   "cell_type": "markdown",
   "metadata": {},
   "source": [
    "## 5. A Little Bit of OO Theory\n",
    "\n",
    "`class`와 `object`는 2가지의 power tool이다\n",
    "- 아주 짧은 시간안에 많은 것을 하도록 해주지만\n",
    "- 신뢰할 수 있고 재사용 가능한 `object`를 만들기 위해서 몇가지 이론을 따라야 한다"
   ]
  },
  {
   "cell_type": "markdown",
   "metadata": {},
   "source": [
    "### 1)Encapsulation\n",
    "something means to encloose it in some kind of container\n",
    "- data 및 data를 사용하는 code를 한 곳에 보관하고 이들이 정확히 어떨게 함께 작동하는지에 대한 세부사항은 main code에서 숨기는 것을 의미한다\n",
    "    + ex) class 파일의 instance는 디스크의 어떤 파일을 읽거나 쓰고 있으며 현재 파일의 어디에 있는 추적한다\n",
    "    + class는 프로그래머들이 어떻게 구현되어있는 세부정보를 알필요 없도록 숨긴다"
   ]
  },
  {
   "cell_type": "markdown",
   "metadata": {},
   "source": [
    "### What are thoses special attributes\n",
    "\n",
    "evety class that you have defined contatins these four attributes\n",
    "1. `__dict__`\n",
    "    - instance variable와 해당 값을 추적하는 데 사용한다\n",
    "    - instance variable에 할당할 때 마다, dictionary의 내용이 변경된다\n",
    "        + 직접 변경할 수 있지만 권장하지 않는다\n",
    "        "
   ]
  },
  {
   "cell_type": "code",
   "execution_count": 1,
   "metadata": {},
   "outputs": [
    {
     "ename": "NameError",
     "evalue": "name 'python_book' is not defined",
     "output_type": "error",
     "traceback": [
      "\u001b[1;31m---------------------------------------------------------------------------\u001b[0m",
      "\u001b[1;31mNameError\u001b[0m                                 Traceback (most recent call last)",
      "\u001b[1;32m<ipython-input-1-69051f17eec8>\u001b[0m in \u001b[0;36m<module>\u001b[1;34m\u001b[0m\n\u001b[1;32m----> 1\u001b[1;33m \u001b[0mpython_book\u001b[0m\u001b[1;33m.\u001b[0m\u001b[0m__dict__\u001b[0m\u001b[1;33m\u001b[0m\u001b[1;33m\u001b[0m\u001b[0m\n\u001b[0m",
      "\u001b[1;31mNameError\u001b[0m: name 'python_book' is not defined"
     ]
    }
   ],
   "source": [
    "python_book.__dict__\n"
   ]
  },
  {
   "cell_type": "markdown",
   "metadata": {},
   "source": [
    "2. `__module__`\n",
    "    - object의 class가 있었던 모듈 module object를 나타낸다\n",
    "\n",
    "3. `__weakref__`\n",
    "    - python에서 object의 memory를 재사용할 수 있는 시기를 관리\n",
    "    - used by Python to manage when the memory for an object can be reused.\n",
    "    \n",
    "4. `__name__`, `___qualname_`\n",
    "    - 각각 class의 정규화된 이름을 포함하는 문자열을 참조\n",
    "    - class가 다른 class 내에 정의된 경우를 제외하고 해당 값은 보통 동일\n",
    "    \n",
    "5. `__class__`\n",
    "    - object의 class object를 나타냄"
   ]
  },
  {
   "cell_type": "markdown",
   "metadata": {},
   "source": [
    "### 2) Polymorphism\n",
    "\n",
    "means “having more than one form.” In programming\n",
    "- programming에서 variable을 포함하는 식은 변수가 참조하는 object의 type에 따라 다른 작업을 수 있다\n",
    "    + ex) 1.if `obj` refers to a string, then obj[1:3] produces a two-character string.\n",
    "    + 2.If `obj`refers to a list, the same expression produces a two-element list. \n",
    "    + 3. `left`, `right`의 type에 따라, `left+right`는 number or string or list가 될 수 있다\n",
    "- programmer들이 쓰고 테스트하는데 필요한 코드의 양을 줄이기 위해 사용 "
   ]
  },
  {
   "cell_type": "code",
   "execution_count": 1,
   "metadata": {},
   "outputs": [],
   "source": [
    "def non_blank_lines(thing):\n",
    "    \"\"\"Return the number of nonblank lines in thing.\"\"\"\n",
    "    count = 0\n",
    "    for line in thing:\n",
    "        if line.strip():\n",
    "            count += 1\n",
    "        return count\n"
   ]
  },
  {
   "cell_type": "markdown",
   "metadata": {},
   "source": [
    "we can apply it to a list of strings, a file, or a web page on a site\n",
    "- 이 3가지의 type들은 loop의 subject가 된다\n",
    "    + each one knows how to produce its “next” element as long as there is one and then say “all done.” \n",
    "    + 즉, 4개의 함수를 사용해 line을 list로 복사한 후, 해당 list에 한 기능을 적용하는 것 대신, **모든 type에 대해 한 기능을 직접 적용할 수 있다**"
   ]
  },
  {
   "cell_type": "markdown",
   "metadata": {},
   "source": [
    "### 3) Inheritance\n",
    "\n",
    "한 class에 다른 class와 동일한 method를 제공하는 것은 polymorphic이지만,    \n",
    "object의 instance variable을 외부에서 초기화하는 결함이 있다\n",
    "- programmer가 code 한줄만 잊으면 전체 program을 추적하기 어려워 실패할 수 있다\n",
    "\n",
    "\n",
    "따라서 class를 만들 때 마다 inherutate, 즉 상속을 사용해 code를 재활용 할 수 있다\n",
    "- new class에서 class `object`의 모든 attribution을 자동으로 상속받는다\n",
    "    + 마치 아이가 부모에게서 속성을 상속받듯이\n",
    "- 또한,, new class가 다른 class의 subclass임을 선언할 수 있다"
   ]
  },
  {
   "cell_type": "markdown",
   "metadata": {},
   "source": [
    "ex) 학생과 교수진을 `Faculty`class와 `student`class을 이용한 program을 통해 관리\n",
    "- 학생과 교수진 모두; 이름, 우편주소, email 주소를 가짐\n",
    "    + 중복 code는 일반적으로 좋지 않기 떄문에, `Member`라는 class를 정의할 것\n",
    "    + 이후 `student`와 `Faculty`라는 subclass를 만듬\n",
    "- `student`: student number, 수가한 과정 목록, 현재 수강중인 과정 목록\n",
    "- `Faculty`: 현재 강의 중인 강의 목록, faculty number"
   ]
  },
  {
   "cell_type": "code",
   "execution_count": 2,
   "metadata": {},
   "outputs": [],
   "source": [
    "class Member:\n",
    "    \"\"\" A member of a university. \"\"\"\n",
    "    def __init__(self, name: str, address: str, email: str) -> None:\n",
    "        \"\"\"Create a new member named name, with home address and email address.\n",
    "        \"\"\"\n",
    "        self.name = name\n",
    "        self.address = address\n",
    "        self.email = email"
   ]
  },
  {
   "cell_type": "code",
   "execution_count": 3,
   "metadata": {},
   "outputs": [],
   "source": [
    "class Faculty(Member):\n",
    "    \"\"\" A faculty member at a university. \"\"\"\n",
    "    def __init__(self, name: str, address: str, email: str,faculty_num: str) -> None:\n",
    "        \"\"\"Create a new faculty named name, with home address, email address,\n",
    "        faculty number faculty_num, and empty list of courses.\n",
    "        \"\"\"\n",
    "        super().__init__(name, address, email)\n",
    "        self.faculty_number = faculty_num\n",
    "        self.courses_teaching = []\n",
    "class Student(Member):\n",
    "    \"\"\" A student member at a university. \"\"\"\n",
    "    def __init__(self, name: str, address: str, email: str,student_num: str) -> None:\n",
    "        \"\"\"Create a new student named name, with home address, email address,\n",
    "        student number student_num, an empty list of courses taken, and an\n",
    "        empty list of current courses.\n",
    "        \"\"\"\n",
    "        super().__init__(name, address, email)\n",
    "        self.student_number = student_num\n",
    "        self.courses_taken = []\n",
    "        self.courses_taking = []"
   ]
  },
  {
   "cell_type": "markdown",
   "metadata": {},
   "source": [
    "`Faculty`class와 `Student` class 모두 `Member`의 subclass임을 알 수 있다\n",
    "- 즉, `Member`의 모든 attributes를 inherit받는다\n",
    "\n",
    ">`__init__`\n",
    ">`Faculty.__init__` and `Student.__init__`은 두 class의 superclass를 attributes를 참조한다 "
   ]
  },
  {
   "cell_type": "code",
   "execution_count": 3,
   "metadata": {},
   "outputs": [],
   "source": [
    "paul = Faculty('Paul Gries', 'Ajax', 'pgries@cs.toronto.edu', '1234')"
   ]
  },
  {
   "cell_type": "code",
   "execution_count": 4,
   "metadata": {},
   "outputs": [
    {
     "data": {
      "text/plain": [
       "'Paul Gries'"
      ]
     },
     "execution_count": 4,
     "metadata": {},
     "output_type": "execute_result"
    }
   ],
   "source": [
    "paul.name"
   ]
  },
  {
   "cell_type": "code",
   "execution_count": 5,
   "metadata": {},
   "outputs": [
    {
     "data": {
      "text/plain": [
       "'pgries@cs.toronto.edu'"
      ]
     },
     "execution_count": 5,
     "metadata": {},
     "output_type": "execute_result"
    }
   ],
   "source": [
    "paul.email"
   ]
  },
  {
   "cell_type": "code",
   "execution_count": 6,
   "metadata": {},
   "outputs": [
    {
     "data": {
      "text/plain": [
       "'1234'"
      ]
     },
     "execution_count": 6,
     "metadata": {},
     "output_type": "execute_result"
    }
   ],
   "source": [
    "paul.faculty_number"
   ]
  },
  {
   "cell_type": "code",
   "execution_count": 7,
   "metadata": {},
   "outputs": [],
   "source": [
    "jen = Student('Jen Campbell', 'Toronto', 'campbell@cs.toronto.edu','4321')\n"
   ]
  },
  {
   "cell_type": "code",
   "execution_count": 8,
   "metadata": {},
   "outputs": [
    {
     "data": {
      "text/plain": [
       "'Jen Campbell'"
      ]
     },
     "execution_count": 8,
     "metadata": {},
     "output_type": "execute_result"
    }
   ],
   "source": [
    "jen.name\n"
   ]
  },
  {
   "cell_type": "code",
   "execution_count": 9,
   "metadata": {},
   "outputs": [
    {
     "data": {
      "text/plain": [
       "'campbell@cs.toronto.edu'"
      ]
     },
     "execution_count": 9,
     "metadata": {},
     "output_type": "execute_result"
    }
   ],
   "source": [
    "jen.email"
   ]
  },
  {
   "cell_type": "code",
   "execution_count": 10,
   "metadata": {},
   "outputs": [
    {
     "data": {
      "text/plain": [
       "'4321'"
      ]
     },
     "execution_count": 10,
     "metadata": {},
     "output_type": "execute_result"
    }
   ],
   "source": [
    "jen.student_number"
   ]
  },
  {
   "cell_type": "markdown",
   "metadata": {},
   "source": [
    "Both the Faculty and Student objects have inherited the features defined in class\n",
    "`Member`.\n",
    "\n",
    "\n",
    "-> class code를 확장하고 싶을 떄, ex)` _str_`"
   ]
  },
  {
   "cell_type": "code",
   "execution_count": 2,
   "metadata": {},
   "outputs": [],
   "source": [
    "class Member:\n",
    "    \"\"\" A member of a university. \"\"\"\n",
    "    def __init__(self, name: str, address: str, email: str) -> None:\n",
    "        \"\"\"Create a new member named name, with home address and email address.\n",
    "        \"\"\"\n",
    "        self.name = name\n",
    "        self.address = address\n",
    "        self.email = email\n",
    "    \n",
    "    def __str__(self) -> str:\n",
    "        \"\"\"Return a string representation of this Member.\n",
    "        >>> member = Member('Paul', 'Ajax', 'pgries@cs.toronto.edu')\n",
    "        >>> member.__str__()\n",
    "        'Paul\\\\nAjax\\\\npgries@cs.toronto.edu'\n",
    "        \"\"\"\n",
    "        return '{}\\n{}\\n{}'.format(self.name, self.address, self.email)"
   ]
  },
  {
   "cell_type": "code",
   "execution_count": 4,
   "metadata": {},
   "outputs": [],
   "source": [
    "paul = Faculty('Paul', 'Ajax', 'pgries@cs.toronto.edu', '1234')"
   ]
  },
  {
   "cell_type": "code",
   "execution_count": 5,
   "metadata": {},
   "outputs": [
    {
     "data": {
      "text/plain": [
       "'Paul\\nAjax\\npgries@cs.toronto.edu'"
      ]
     },
     "execution_count": 5,
     "metadata": {},
     "output_type": "execute_result"
    }
   ],
   "source": [
    "str(paul)"
   ]
  },
  {
   "cell_type": "code",
   "execution_count": 6,
   "metadata": {},
   "outputs": [
    {
     "name": "stdout",
     "output_type": "stream",
     "text": [
      "Paul\n",
      "Ajax\n",
      "pgries@cs.toronto.edu\n"
     ]
    }
   ],
   "source": [
    "print(paul)"
   ]
  },
  {
   "cell_type": "markdown",
   "metadata": {},
   "source": [
    "We’ll use super again to access the inherited Member.\n",
    "__str__ method and to append the Faculty-specific information"
   ]
  },
  {
   "cell_type": "code",
   "execution_count": 7,
   "metadata": {},
   "outputs": [],
   "source": [
    "class Member:\n",
    "    \"\"\" A member of a university. \"\"\"\n",
    "    def __init__(self, name: str, address: str, email: str) -> None:\n",
    "        \"\"\"Create a new member named name, with home address and email address.\n",
    "        \"\"\"\n",
    "        self.name = name\n",
    "        self.address = address\n",
    "        self.email = email\n",
    "    \n",
    "    def __str__(self) -> str:\n",
    "        \"\"\"Return a string representation of this Faculty.\n",
    "        >>> faculty = Faculty('Paul', 'Ajax', 'pgries@cs.toronto.edu', '1234')\n",
    "        >>> faculty.__str__()\n",
    "        'Paul\\\\nAjax\\\\npgries@cs.toronto.edu\\\\n1234\\\\nCourses: '\n",
    "        \"\"\"\n",
    "        member_string = super().__str__()\n",
    "        return '''{}\\n{}\\nCourses: {}'''.format(member_string,self.faculty_number,\n",
    "                                                ' '.join(self.courses_teaching))"
   ]
  },
  {
   "cell_type": "code",
   "execution_count": 8,
   "metadata": {},
   "outputs": [],
   "source": [
    "paul = Faculty('Paul', 'Ajax', 'pgries@cs.toronto.edu', '1234')"
   ]
  },
  {
   "cell_type": "code",
   "execution_count": 9,
   "metadata": {},
   "outputs": [
    {
     "data": {
      "text/plain": [
       "'Paul\\nAjax\\npgries@cs.toronto.edu'"
      ]
     },
     "execution_count": 9,
     "metadata": {},
     "output_type": "execute_result"
    }
   ],
   "source": [
    "str(paul)\n"
   ]
  },
  {
   "cell_type": "code",
   "execution_count": 10,
   "metadata": {},
   "outputs": [
    {
     "name": "stdout",
     "output_type": "stream",
     "text": [
      "Paul\n",
      "Ajax\n",
      "pgries@cs.toronto.edu\n"
     ]
    }
   ],
   "source": [
    "print(paul)\n"
   ]
  },
  {
   "cell_type": "markdown",
   "metadata": {},
   "source": [
    "## 6. A Case Study: Molecules, Atoms, and PDB Files"
   ]
  },
  {
   "cell_type": "markdown",
   "metadata": {},
   "source": [
    "## 7. Classifying What You've Learned"
   ]
  },
  {
   "cell_type": "code",
   "execution_count": null,
   "metadata": {},
   "outputs": [],
   "source": []
  }
 ],
 "metadata": {
  "kernelspec": {
   "display_name": "Python 3",
   "language": "python",
   "name": "python3"
  },
  "language_info": {
   "codemirror_mode": {
    "name": "ipython",
    "version": 3
   },
   "file_extension": ".py",
   "mimetype": "text/x-python",
   "name": "python",
   "nbconvert_exporter": "python",
   "pygments_lexer": "ipython3",
   "version": "3.8.3"
  }
 },
 "nbformat": 4,
 "nbformat_minor": 4
}
